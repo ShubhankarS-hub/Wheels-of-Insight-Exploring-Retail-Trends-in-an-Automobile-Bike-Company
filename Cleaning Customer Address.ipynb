{
 "cells": [
  {
   "cell_type": "markdown",
   "id": "f1d8ba00-5a9a-4e3d-a6e8-35b4fcc9591d",
   "metadata": {},
   "source": [
    "# Data Cleaning Customer Address"
   ]
  },
  {
   "cell_type": "code",
   "execution_count": 1,
   "id": "84c13df4-26a7-4886-ae2a-66f94103817d",
   "metadata": {},
   "outputs": [],
   "source": [
    "import pandas as pd\n",
    "import numpy as np\n",
    "import matplotlib.pyplot as plt\n",
    "import seaborn as sns\n",
    "%matplotlib inline\n",
    "\n",
    "from datetime import datetime, date"
   ]
  },
  {
   "cell_type": "code",
   "execution_count": 2,
   "id": "48068c89-cac6-4703-95d7-a03eb14b14fc",
   "metadata": {},
   "outputs": [],
   "source": [
    "cust_address =pd.read_excel('Raw_data.xlsx', sheet_name='CustomerAddress')"
   ]
  },
  {
   "cell_type": "code",
   "execution_count": 3,
   "id": "ec87461b-d3ec-4c63-a63b-30a7ea7241e5",
   "metadata": {},
   "outputs": [
    {
     "data": {
      "text/html": [
       "<div>\n",
       "<style scoped>\n",
       "    .dataframe tbody tr th:only-of-type {\n",
       "        vertical-align: middle;\n",
       "    }\n",
       "\n",
       "    .dataframe tbody tr th {\n",
       "        vertical-align: top;\n",
       "    }\n",
       "\n",
       "    .dataframe thead th {\n",
       "        text-align: right;\n",
       "    }\n",
       "</style>\n",
       "<table border=\"1\" class=\"dataframe\">\n",
       "  <thead>\n",
       "    <tr style=\"text-align: right;\">\n",
       "      <th></th>\n",
       "      <th>customer_id</th>\n",
       "      <th>address</th>\n",
       "      <th>postcode</th>\n",
       "      <th>state</th>\n",
       "      <th>country</th>\n",
       "      <th>property_valuation</th>\n",
       "    </tr>\n",
       "  </thead>\n",
       "  <tbody>\n",
       "    <tr>\n",
       "      <th>0</th>\n",
       "      <td>1</td>\n",
       "      <td>060 Morning Avenue</td>\n",
       "      <td>2016</td>\n",
       "      <td>New South Wales</td>\n",
       "      <td>Australia</td>\n",
       "      <td>10</td>\n",
       "    </tr>\n",
       "    <tr>\n",
       "      <th>1</th>\n",
       "      <td>2</td>\n",
       "      <td>6 Meadow Vale Court</td>\n",
       "      <td>2153</td>\n",
       "      <td>New South Wales</td>\n",
       "      <td>Australia</td>\n",
       "      <td>10</td>\n",
       "    </tr>\n",
       "    <tr>\n",
       "      <th>2</th>\n",
       "      <td>4</td>\n",
       "      <td>0 Holy Cross Court</td>\n",
       "      <td>4211</td>\n",
       "      <td>QLD</td>\n",
       "      <td>Australia</td>\n",
       "      <td>9</td>\n",
       "    </tr>\n",
       "    <tr>\n",
       "      <th>3</th>\n",
       "      <td>5</td>\n",
       "      <td>17979 Del Mar Point</td>\n",
       "      <td>2448</td>\n",
       "      <td>New South Wales</td>\n",
       "      <td>Australia</td>\n",
       "      <td>4</td>\n",
       "    </tr>\n",
       "    <tr>\n",
       "      <th>4</th>\n",
       "      <td>6</td>\n",
       "      <td>9 Oakridge Court</td>\n",
       "      <td>3216</td>\n",
       "      <td>VIC</td>\n",
       "      <td>Australia</td>\n",
       "      <td>9</td>\n",
       "    </tr>\n",
       "  </tbody>\n",
       "</table>\n",
       "</div>"
      ],
      "text/plain": [
       "   customer_id              address  postcode            state    country  \\\n",
       "0            1   060 Morning Avenue      2016  New South Wales  Australia   \n",
       "1            2  6 Meadow Vale Court      2153  New South Wales  Australia   \n",
       "2            4   0 Holy Cross Court      4211              QLD  Australia   \n",
       "3            5  17979 Del Mar Point      2448  New South Wales  Australia   \n",
       "4            6     9 Oakridge Court      3216              VIC  Australia   \n",
       "\n",
       "   property_valuation  \n",
       "0                  10  \n",
       "1                  10  \n",
       "2                   9  \n",
       "3                   4  \n",
       "4                   9  "
      ]
     },
     "execution_count": 3,
     "metadata": {},
     "output_type": "execute_result"
    }
   ],
   "source": [
    "cust_address.head()"
   ]
  },
  {
   "cell_type": "code",
   "execution_count": 4,
   "id": "9119f995-8b73-428b-a084-6fc712552b42",
   "metadata": {},
   "outputs": [
    {
     "name": "stdout",
     "output_type": "stream",
     "text": [
      "<class 'pandas.core.frame.DataFrame'>\n",
      "RangeIndex: 3999 entries, 0 to 3998\n",
      "Data columns (total 6 columns):\n",
      " #   Column              Non-Null Count  Dtype \n",
      "---  ------              --------------  ----- \n",
      " 0   customer_id         3999 non-null   int64 \n",
      " 1   address             3999 non-null   object\n",
      " 2   postcode            3999 non-null   int64 \n",
      " 3   state               3999 non-null   object\n",
      " 4   country             3999 non-null   object\n",
      " 5   property_valuation  3999 non-null   int64 \n",
      "dtypes: int64(3), object(3)\n",
      "memory usage: 187.6+ KB\n"
     ]
    }
   ],
   "source": [
    "# Information of columns and data-types of Customer Address Data.\n",
    "\n",
    "cust_address.info()"
   ]
  },
  {
   "cell_type": "markdown",
   "id": "fbbeea31-c5b8-4018-a306-86056e7be3bc",
   "metadata": {},
   "source": [
    "# Checking Total Records "
   ]
  },
  {
   "cell_type": "code",
   "execution_count": 5,
   "id": "89de6470-ce1c-44c3-aab3-7b3fa7a45930",
   "metadata": {},
   "outputs": [
    {
     "name": "stdout",
     "output_type": "stream",
     "text": [
      "Total records (rows) in the dataset : 3999\n",
      "Total columns (features) in the dataset : 6\n"
     ]
    }
   ],
   "source": [
    "print(\"Total records (rows) in the dataset : {}\".format(cust_address.shape[0]))\n",
    "print(\"Total columns (features) in the dataset : {}\".format(cust_address.shape[1]))"
   ]
  },
  {
   "cell_type": "markdown",
   "id": "f6f14f42-cc33-4564-b962-7e3f4cd17442",
   "metadata": {},
   "source": [
    "# Numeric and Non-Numeric Columns"
   ]
  },
  {
   "cell_type": "code",
   "execution_count": 9,
   "id": "16449af9-078d-45f0-86b1-ec4fb27832aa",
   "metadata": {},
   "outputs": [
    {
     "data": {
      "text/plain": [
       "array(['customer_id', 'postcode', 'property_valuation'], dtype=object)"
      ]
     },
     "execution_count": 9,
     "metadata": {},
     "output_type": "execute_result"
    }
   ],
   "source": [
    "df_numeric = cust_address.select_dtypes(include=[np.number])\n",
    "numeric_cols = df_numeric.columns.values\n",
    "numeric_cols"
   ]
  },
  {
   "cell_type": "code",
   "execution_count": 10,
   "id": "31cc1c5f-7e1e-443b-8318-59f610f6aa73",
   "metadata": {},
   "outputs": [
    {
     "data": {
      "text/plain": [
       "array(['address', 'state', 'country'], dtype=object)"
      ]
     },
     "execution_count": 10,
     "metadata": {},
     "output_type": "execute_result"
    }
   ],
   "source": [
    "df_non_numeric = cust_address.select_dtypes(exclude=[np.number])\n",
    "non_numeric_cols = df_non_numeric.columns.values\n",
    "non_numeric_cols"
   ]
  },
  {
   "cell_type": "markdown",
   "id": "57f4eb60-1c0d-4288-989f-a9505d68ec28",
   "metadata": {},
   "source": [
    "# Checking for Missing Values"
   ]
  },
  {
   "cell_type": "code",
   "execution_count": 13,
   "id": "16d9053d-be3c-4c08-8f63-aaaf398fd84b",
   "metadata": {},
   "outputs": [
    {
     "data": {
      "text/plain": [
       "customer_id           0\n",
       "address               0\n",
       "postcode              0\n",
       "state                 0\n",
       "country               0\n",
       "property_valuation    0\n",
       "dtype: int64"
      ]
     },
     "execution_count": 13,
     "metadata": {},
     "output_type": "execute_result"
    }
   ],
   "source": [
    "# Total number of missing values\n",
    "cust_address.isnull().sum()"
   ]
  },
  {
   "cell_type": "markdown",
   "id": "13f9d445-c1a5-4f4d-a812-81032a083285",
   "metadata": {},
   "source": [
    "# Data Inconsistencies "
   ]
  },
  {
   "cell_type": "markdown",
   "id": "e95d45e6-c0f2-4fa6-9d10-2659599e1499",
   "metadata": {},
   "source": [
    "## State Column"
   ]
  },
  {
   "cell_type": "code",
   "execution_count": 17,
   "id": "e5282cf7-45ce-4732-aee0-0be5be2df2b3",
   "metadata": {},
   "outputs": [
    {
     "data": {
      "text/plain": [
       "state\n",
       "NSW                2054\n",
       "VIC                 939\n",
       "QLD                 838\n",
       "New South Wales      86\n",
       "Victoria             82\n",
       "Name: count, dtype: int64"
      ]
     },
     "execution_count": 17,
     "metadata": {},
     "output_type": "execute_result"
    }
   ],
   "source": [
    "cust_address['state'].value_counts()"
   ]
  },
  {
   "cell_type": "markdown",
   "id": "11a753da-e474-4294-a8b2-0af8344d3bda",
   "metadata": {},
   "source": [
    "- NSW and VIC have 2 other full name values, so we will replace them with their short forms"
   ]
  },
  {
   "cell_type": "code",
   "execution_count": 18,
   "id": "eca91c15-3c56-4f10-8edd-cec1e672ee45",
   "metadata": {},
   "outputs": [],
   "source": [
    "def replace_state_names(state_name):\n",
    "    \n",
    "    if state_name=='New South Wales':\n",
    "        return 'NSW'\n",
    "    elif state_name=='Victoria':\n",
    "        return 'VIC'\n",
    "    else :\n",
    "        return state_name\n",
    "\n",
    "cust_address['state'] = cust_address['state'].apply(replace_state_names)"
   ]
  },
  {
   "cell_type": "code",
   "execution_count": 19,
   "id": "5472310d-f927-489b-b2e1-84f512a0c5bf",
   "metadata": {},
   "outputs": [
    {
     "data": {
      "text/plain": [
       "state\n",
       "NSW    2140\n",
       "VIC    1021\n",
       "QLD     838\n",
       "Name: count, dtype: int64"
      ]
     },
     "execution_count": 19,
     "metadata": {},
     "output_type": "execute_result"
    }
   ],
   "source": [
    "cust_address['state'].value_counts()"
   ]
  },
  {
   "cell_type": "markdown",
   "id": "55c73275-c189-44b1-9b43-ca961b0468a9",
   "metadata": {},
   "source": [
    "# Country Column"
   ]
  },
  {
   "cell_type": "code",
   "execution_count": 20,
   "id": "56eca2cf-618a-491c-8a09-fcbb8dae2809",
   "metadata": {},
   "outputs": [
    {
     "data": {
      "text/plain": [
       "country\n",
       "Australia    3999\n",
       "Name: count, dtype: int64"
      ]
     },
     "execution_count": 20,
     "metadata": {},
     "output_type": "execute_result"
    }
   ],
   "source": [
    "cust_address['country'].value_counts()"
   ]
  },
  {
   "cell_type": "markdown",
   "id": "3a646532-8af4-4d70-ae59-771ca8869880",
   "metadata": {},
   "source": [
    "- No inconsistency here "
   ]
  },
  {
   "cell_type": "markdown",
   "id": "50a82f23-b72d-465b-a84a-3545aefb5a84",
   "metadata": {},
   "source": [
    "# Dropping Duplicate Addresses"
   ]
  },
  {
   "cell_type": "code",
   "execution_count": 24,
   "id": "f8015940-dcfd-407f-9867-fbfa18c10c76",
   "metadata": {},
   "outputs": [
    {
     "data": {
      "text/html": [
       "<div>\n",
       "<style scoped>\n",
       "    .dataframe tbody tr th:only-of-type {\n",
       "        vertical-align: middle;\n",
       "    }\n",
       "\n",
       "    .dataframe tbody tr th {\n",
       "        vertical-align: top;\n",
       "    }\n",
       "\n",
       "    .dataframe thead th {\n",
       "        text-align: right;\n",
       "    }\n",
       "</style>\n",
       "<table border=\"1\" class=\"dataframe\">\n",
       "  <thead>\n",
       "    <tr style=\"text-align: right;\">\n",
       "      <th></th>\n",
       "      <th>address</th>\n",
       "      <th>postcode</th>\n",
       "      <th>state</th>\n",
       "      <th>country</th>\n",
       "    </tr>\n",
       "  </thead>\n",
       "  <tbody>\n",
       "    <tr>\n",
       "      <th>0</th>\n",
       "      <td>060 Morning Avenue</td>\n",
       "      <td>2016</td>\n",
       "      <td>NSW</td>\n",
       "      <td>Australia</td>\n",
       "    </tr>\n",
       "    <tr>\n",
       "      <th>1</th>\n",
       "      <td>6 Meadow Vale Court</td>\n",
       "      <td>2153</td>\n",
       "      <td>NSW</td>\n",
       "      <td>Australia</td>\n",
       "    </tr>\n",
       "    <tr>\n",
       "      <th>2</th>\n",
       "      <td>0 Holy Cross Court</td>\n",
       "      <td>4211</td>\n",
       "      <td>QLD</td>\n",
       "      <td>Australia</td>\n",
       "    </tr>\n",
       "    <tr>\n",
       "      <th>3</th>\n",
       "      <td>17979 Del Mar Point</td>\n",
       "      <td>2448</td>\n",
       "      <td>NSW</td>\n",
       "      <td>Australia</td>\n",
       "    </tr>\n",
       "    <tr>\n",
       "      <th>4</th>\n",
       "      <td>9 Oakridge Court</td>\n",
       "      <td>3216</td>\n",
       "      <td>VIC</td>\n",
       "      <td>Australia</td>\n",
       "    </tr>\n",
       "    <tr>\n",
       "      <th>...</th>\n",
       "      <td>...</td>\n",
       "      <td>...</td>\n",
       "      <td>...</td>\n",
       "      <td>...</td>\n",
       "    </tr>\n",
       "    <tr>\n",
       "      <th>3994</th>\n",
       "      <td>1482 Hauk Trail</td>\n",
       "      <td>3064</td>\n",
       "      <td>VIC</td>\n",
       "      <td>Australia</td>\n",
       "    </tr>\n",
       "    <tr>\n",
       "      <th>3995</th>\n",
       "      <td>57042 Village Green Point</td>\n",
       "      <td>4511</td>\n",
       "      <td>QLD</td>\n",
       "      <td>Australia</td>\n",
       "    </tr>\n",
       "    <tr>\n",
       "      <th>3996</th>\n",
       "      <td>87 Crescent Oaks Alley</td>\n",
       "      <td>2756</td>\n",
       "      <td>NSW</td>\n",
       "      <td>Australia</td>\n",
       "    </tr>\n",
       "    <tr>\n",
       "      <th>3997</th>\n",
       "      <td>8194 Lien Street</td>\n",
       "      <td>4032</td>\n",
       "      <td>QLD</td>\n",
       "      <td>Australia</td>\n",
       "    </tr>\n",
       "    <tr>\n",
       "      <th>3998</th>\n",
       "      <td>320 Acker Drive</td>\n",
       "      <td>2251</td>\n",
       "      <td>NSW</td>\n",
       "      <td>Australia</td>\n",
       "    </tr>\n",
       "  </tbody>\n",
       "</table>\n",
       "<p>3999 rows × 4 columns</p>\n",
       "</div>"
      ],
      "text/plain": [
       "                        address  postcode state    country\n",
       "0            060 Morning Avenue      2016   NSW  Australia\n",
       "1           6 Meadow Vale Court      2153   NSW  Australia\n",
       "2            0 Holy Cross Court      4211   QLD  Australia\n",
       "3           17979 Del Mar Point      2448   NSW  Australia\n",
       "4              9 Oakridge Court      3216   VIC  Australia\n",
       "...                         ...       ...   ...        ...\n",
       "3994            1482 Hauk Trail      3064   VIC  Australia\n",
       "3995  57042 Village Green Point      4511   QLD  Australia\n",
       "3996     87 Crescent Oaks Alley      2756   NSW  Australia\n",
       "3997           8194 Lien Street      4032   QLD  Australia\n",
       "3998            320 Acker Drive      2251   NSW  Australia\n",
       "\n",
       "[3999 rows x 4 columns]"
      ]
     },
     "execution_count": 24,
     "metadata": {},
     "output_type": "execute_result"
    }
   ],
   "source": [
    "cust_address[['address','postcode','state','country']].drop_duplicates()"
   ]
  },
  {
   "cell_type": "markdown",
   "id": "5699076a-3a14-4f8b-b562-1426e473c849",
   "metadata": {},
   "source": [
    "# Duplication Check"
   ]
  },
  {
   "cell_type": "code",
   "execution_count": 28,
   "id": "b580e63e-ffc6-419d-a41d-3b0cdabd2811",
   "metadata": {},
   "outputs": [
    {
     "name": "stdout",
     "output_type": "stream",
     "text": [
      "Number of records after removing customer_id or primary key, duplicates : 3999\n",
      "Number of records in original dataset : 3999\n"
     ]
    }
   ],
   "source": [
    "# Dropping the primary key column as it will always be unique. In our case customer id.\n",
    "cust_address_dedupped = cust_address.drop('customer_id', axis=1).drop_duplicates()\n",
    "\n",
    "print('Number of records after removing customer_id or primary key, duplicates : {}'.format(cust_address_dedupped.shape[0]))\n",
    "print('Number of records in original dataset : {}'.format(cust_address.shape[0]))"
   ]
  },
  {
   "cell_type": "markdown",
   "id": "90a253db-6d07-4b28-a4a3-9f31349d73ae",
   "metadata": {},
   "source": [
    "- Since the number of indexes or rows are same in both cases, henece we have no duplictated values.\n",
    "- Note: .format is a property of Pandas that return number of rows and columns as a tuple"
   ]
  },
  {
   "cell_type": "markdown",
   "id": "5061c0ca-353d-4bbb-a066-ebf826aa233b",
   "metadata": {},
   "source": [
    "# Exporting Cleaned Data set to CSV"
   ]
  },
  {
   "cell_type": "code",
   "execution_count": 27,
   "id": "04bacb6f-2860-4458-872a-6cf4f7c7a69d",
   "metadata": {},
   "outputs": [],
   "source": [
    "cust_address.to_csv('CustomerAddress_Cleaned.csv', index=False)\n",
    "\n",
    "#Index=false will make sure we don't have an added column with number of rows in the csv file "
   ]
  },
  {
   "cell_type": "code",
   "execution_count": null,
   "id": "705085cd-8861-432c-a27f-375b19b52ead",
   "metadata": {},
   "outputs": [],
   "source": []
  }
 ],
 "metadata": {
  "kernelspec": {
   "display_name": "Python 3 (ipykernel)",
   "language": "python",
   "name": "python3"
  },
  "language_info": {
   "codemirror_mode": {
    "name": "ipython",
    "version": 3
   },
   "file_extension": ".py",
   "mimetype": "text/x-python",
   "name": "python",
   "nbconvert_exporter": "python",
   "pygments_lexer": "ipython3",
   "version": "3.12.7"
  }
 },
 "nbformat": 4,
 "nbformat_minor": 5
}
