{
 "cells": [
  {
   "cell_type": "markdown",
   "id": "4caa43b5-40e5-4755-abc6-564158c4a132",
   "metadata": {},
   "source": [
    "# Cleaning Transactions"
   ]
  },
  {
   "cell_type": "code",
   "execution_count": 1,
   "id": "834ab805-1701-43bb-8b0e-3d609ff54b59",
   "metadata": {},
   "outputs": [],
   "source": [
    "import pandas as pd\n",
    "import numpy as np\n",
    "import matplotlib.pyplot as plt\n",
    "import seaborn as sns\n",
    "%matplotlib inline\n",
    "\n",
    "from datetime import datetime, date\n",
    "plt.style.use('ggplot')"
   ]
  },
  {
   "cell_type": "code",
   "execution_count": 2,
   "id": "20f4113a-564e-42c7-bb80-3cada868b099",
   "metadata": {},
   "outputs": [],
   "source": [
    "trans = pd.read_excel('Raw_data.xlsx' , sheet_name='Transactions')"
   ]
  },
  {
   "cell_type": "code",
   "execution_count": 3,
   "id": "815ec65d-2ffc-4967-8a5d-a78285b91b96",
   "metadata": {},
   "outputs": [
    {
     "data": {
      "text/html": [
       "<div>\n",
       "<style scoped>\n",
       "    .dataframe tbody tr th:only-of-type {\n",
       "        vertical-align: middle;\n",
       "    }\n",
       "\n",
       "    .dataframe tbody tr th {\n",
       "        vertical-align: top;\n",
       "    }\n",
       "\n",
       "    .dataframe thead th {\n",
       "        text-align: right;\n",
       "    }\n",
       "</style>\n",
       "<table border=\"1\" class=\"dataframe\">\n",
       "  <thead>\n",
       "    <tr style=\"text-align: right;\">\n",
       "      <th></th>\n",
       "      <th>transaction_id</th>\n",
       "      <th>product_id</th>\n",
       "      <th>customer_id</th>\n",
       "      <th>transaction_date</th>\n",
       "      <th>online_order</th>\n",
       "      <th>order_status</th>\n",
       "      <th>brand</th>\n",
       "      <th>product_line</th>\n",
       "      <th>product_class</th>\n",
       "      <th>product_size</th>\n",
       "      <th>list_price</th>\n",
       "      <th>standard_cost</th>\n",
       "      <th>product_first_sold_date</th>\n",
       "    </tr>\n",
       "  </thead>\n",
       "  <tbody>\n",
       "    <tr>\n",
       "      <th>0</th>\n",
       "      <td>1</td>\n",
       "      <td>2</td>\n",
       "      <td>2950</td>\n",
       "      <td>2017-02-25</td>\n",
       "      <td>0.0</td>\n",
       "      <td>Approved</td>\n",
       "      <td>Solex</td>\n",
       "      <td>Standard</td>\n",
       "      <td>medium</td>\n",
       "      <td>medium</td>\n",
       "      <td>71.49</td>\n",
       "      <td>53.62</td>\n",
       "      <td>41245.0</td>\n",
       "    </tr>\n",
       "    <tr>\n",
       "      <th>1</th>\n",
       "      <td>2</td>\n",
       "      <td>3</td>\n",
       "      <td>3120</td>\n",
       "      <td>2017-05-21</td>\n",
       "      <td>1.0</td>\n",
       "      <td>Approved</td>\n",
       "      <td>Trek Bicycles</td>\n",
       "      <td>Standard</td>\n",
       "      <td>medium</td>\n",
       "      <td>large</td>\n",
       "      <td>2091.47</td>\n",
       "      <td>388.92</td>\n",
       "      <td>41701.0</td>\n",
       "    </tr>\n",
       "    <tr>\n",
       "      <th>2</th>\n",
       "      <td>3</td>\n",
       "      <td>37</td>\n",
       "      <td>402</td>\n",
       "      <td>2017-10-16</td>\n",
       "      <td>0.0</td>\n",
       "      <td>Approved</td>\n",
       "      <td>OHM Cycles</td>\n",
       "      <td>Standard</td>\n",
       "      <td>low</td>\n",
       "      <td>medium</td>\n",
       "      <td>1793.43</td>\n",
       "      <td>248.82</td>\n",
       "      <td>36361.0</td>\n",
       "    </tr>\n",
       "    <tr>\n",
       "      <th>3</th>\n",
       "      <td>4</td>\n",
       "      <td>88</td>\n",
       "      <td>3135</td>\n",
       "      <td>2017-08-31</td>\n",
       "      <td>0.0</td>\n",
       "      <td>Approved</td>\n",
       "      <td>Norco Bicycles</td>\n",
       "      <td>Standard</td>\n",
       "      <td>medium</td>\n",
       "      <td>medium</td>\n",
       "      <td>1198.46</td>\n",
       "      <td>381.10</td>\n",
       "      <td>36145.0</td>\n",
       "    </tr>\n",
       "    <tr>\n",
       "      <th>4</th>\n",
       "      <td>5</td>\n",
       "      <td>78</td>\n",
       "      <td>787</td>\n",
       "      <td>2017-10-01</td>\n",
       "      <td>1.0</td>\n",
       "      <td>Approved</td>\n",
       "      <td>Giant Bicycles</td>\n",
       "      <td>Standard</td>\n",
       "      <td>medium</td>\n",
       "      <td>large</td>\n",
       "      <td>1765.30</td>\n",
       "      <td>709.48</td>\n",
       "      <td>42226.0</td>\n",
       "    </tr>\n",
       "  </tbody>\n",
       "</table>\n",
       "</div>"
      ],
      "text/plain": [
       "   transaction_id  product_id  customer_id transaction_date  online_order  \\\n",
       "0               1           2         2950       2017-02-25           0.0   \n",
       "1               2           3         3120       2017-05-21           1.0   \n",
       "2               3          37          402       2017-10-16           0.0   \n",
       "3               4          88         3135       2017-08-31           0.0   \n",
       "4               5          78          787       2017-10-01           1.0   \n",
       "\n",
       "  order_status           brand product_line product_class product_size  \\\n",
       "0     Approved           Solex     Standard        medium       medium   \n",
       "1     Approved   Trek Bicycles     Standard        medium        large   \n",
       "2     Approved      OHM Cycles     Standard           low       medium   \n",
       "3     Approved  Norco Bicycles     Standard        medium       medium   \n",
       "4     Approved  Giant Bicycles     Standard        medium        large   \n",
       "\n",
       "   list_price  standard_cost  product_first_sold_date  \n",
       "0       71.49          53.62                  41245.0  \n",
       "1     2091.47         388.92                  41701.0  \n",
       "2     1793.43         248.82                  36361.0  \n",
       "3     1198.46         381.10                  36145.0  \n",
       "4     1765.30         709.48                  42226.0  "
      ]
     },
     "execution_count": 3,
     "metadata": {},
     "output_type": "execute_result"
    }
   ],
   "source": [
    "trans.head()"
   ]
  },
  {
   "cell_type": "code",
   "execution_count": 4,
   "id": "72ad0691-7177-4940-a32e-564b8616c03d",
   "metadata": {},
   "outputs": [
    {
     "name": "stdout",
     "output_type": "stream",
     "text": [
      "<class 'pandas.core.frame.DataFrame'>\n",
      "RangeIndex: 20000 entries, 0 to 19999\n",
      "Data columns (total 13 columns):\n",
      " #   Column                   Non-Null Count  Dtype         \n",
      "---  ------                   --------------  -----         \n",
      " 0   transaction_id           20000 non-null  int64         \n",
      " 1   product_id               20000 non-null  int64         \n",
      " 2   customer_id              20000 non-null  int64         \n",
      " 3   transaction_date         20000 non-null  datetime64[ns]\n",
      " 4   online_order             19640 non-null  float64       \n",
      " 5   order_status             20000 non-null  object        \n",
      " 6   brand                    19803 non-null  object        \n",
      " 7   product_line             19803 non-null  object        \n",
      " 8   product_class            19803 non-null  object        \n",
      " 9   product_size             19803 non-null  object        \n",
      " 10  list_price               20000 non-null  float64       \n",
      " 11  standard_cost            19803 non-null  float64       \n",
      " 12  product_first_sold_date  19803 non-null  float64       \n",
      "dtypes: datetime64[ns](1), float64(4), int64(3), object(5)\n",
      "memory usage: 2.0+ MB\n"
     ]
    }
   ],
   "source": [
    "trans.info()"
   ]
  },
  {
   "cell_type": "markdown",
   "id": "11c73c52-c90d-4bb5-b65d-42325fea52c2",
   "metadata": {},
   "source": [
    "# Total Records "
   ]
  },
  {
   "cell_type": "code",
   "execution_count": 5,
   "id": "12d70de4-d01c-48e0-bffe-ce65ccadc519",
   "metadata": {},
   "outputs": [
    {
     "name": "stdout",
     "output_type": "stream",
     "text": [
      "Total records (rows) in the dataset : 20000\n",
      "Total columns (features) in the dataset : 13\n"
     ]
    }
   ],
   "source": [
    "print(\"Total records (rows) in the dataset : {}\".format(trans.shape[0]))\n",
    "print(\"Total columns (features) in the dataset : {}\".format(trans.shape[1]))"
   ]
  },
  {
   "cell_type": "markdown",
   "id": "5cbbe6bf-6c77-4d13-8f05-01281a96fba7",
   "metadata": {},
   "source": [
    "# Numeric and Non Numeric Columns "
   ]
  },
  {
   "cell_type": "code",
   "execution_count": 6,
   "id": "da2b7fb5-1a85-4adc-9a7b-b025c0f83643",
   "metadata": {},
   "outputs": [
    {
     "data": {
      "text/plain": [
       "array(['transaction_id', 'product_id', 'customer_id', 'online_order',\n",
       "       'list_price', 'standard_cost', 'product_first_sold_date'],\n",
       "      dtype=object)"
      ]
     },
     "execution_count": 6,
     "metadata": {},
     "output_type": "execute_result"
    }
   ],
   "source": [
    "df_numeric = trans.select_dtypes(include=[np.number])\n",
    "numeric_cols = df_numeric.columns.values\n",
    "numeric_cols"
   ]
  },
  {
   "cell_type": "code",
   "execution_count": 7,
   "id": "82c9875f-30ce-4ee9-867e-c184e70740c6",
   "metadata": {},
   "outputs": [
    {
     "data": {
      "text/plain": [
       "array(['transaction_date', 'order_status', 'brand', 'product_line',\n",
       "       'product_class', 'product_size'], dtype=object)"
      ]
     },
     "execution_count": 7,
     "metadata": {},
     "output_type": "execute_result"
    }
   ],
   "source": [
    "df_non_numeric = trans.select_dtypes(exclude=[np.number])\n",
    "non_numeric_cols = df_non_numeric.columns.values\n",
    "non_numeric_cols"
   ]
  },
  {
   "cell_type": "markdown",
   "id": "f39d91c0-1cf4-4cdb-bc85-48b1d88be918",
   "metadata": {},
   "source": [
    "# Checking for Missing Values"
   ]
  },
  {
   "cell_type": "code",
   "execution_count": 8,
   "id": "94355b55-f901-47a3-baa8-c24cb9fd5cec",
   "metadata": {},
   "outputs": [
    {
     "data": {
      "text/plain": [
       "transaction_id               0\n",
       "product_id                   0\n",
       "customer_id                  0\n",
       "transaction_date             0\n",
       "online_order               360\n",
       "order_status                 0\n",
       "brand                      197\n",
       "product_line               197\n",
       "product_class              197\n",
       "product_size               197\n",
       "list_price                   0\n",
       "standard_cost              197\n",
       "product_first_sold_date    197\n",
       "dtype: int64"
      ]
     },
     "execution_count": 8,
     "metadata": {},
     "output_type": "execute_result"
    }
   ],
   "source": [
    "trans.isnull().sum()"
   ]
  },
  {
   "cell_type": "code",
   "execution_count": 9,
   "id": "ceeede67-5bd7-40b1-b28d-b89bb56b486b",
   "metadata": {},
   "outputs": [
    {
     "data": {
      "text/plain": [
       "transaction_id             0.000\n",
       "product_id                 0.000\n",
       "customer_id                0.000\n",
       "transaction_date           0.000\n",
       "online_order               1.800\n",
       "order_status               0.000\n",
       "brand                      0.985\n",
       "product_line               0.985\n",
       "product_class              0.985\n",
       "product_size               0.985\n",
       "list_price                 0.000\n",
       "standard_cost              0.985\n",
       "product_first_sold_date    0.985\n",
       "dtype: float64"
      ]
     },
     "execution_count": 9,
     "metadata": {},
     "output_type": "execute_result"
    }
   ],
   "source": [
    "trans.isnull().mean()*100"
   ]
  },
  {
   "cell_type": "markdown",
   "id": "1ba709e8-2eab-45ad-a916-9c1e2d9c37cc",
   "metadata": {},
   "source": [
    "# Online Order "
   ]
  },
  {
   "cell_type": "markdown",
   "id": "d8d215ca-9cb8-4be0-983c-dc4483f06dc6",
   "metadata": {},
   "source": [
    "- As we can see only 1.8% of vlaues in the column is missing hence we can replace the missing values with the most common value in the column. Since this is a categorical column then it can either be yes or no. we can check that with mode and impute missing values with that"
   ]
  },
  {
   "cell_type": "code",
   "execution_count": 10,
   "id": "71bc813b-b485-4d63-bb6a-ef732f118567",
   "metadata": {},
   "outputs": [
    {
     "data": {
      "text/plain": [
       "0    1.0\n",
       "Name: online_order, dtype: float64"
      ]
     },
     "execution_count": 10,
     "metadata": {},
     "output_type": "execute_result"
    }
   ],
   "source": [
    "most_freq_online_mode = trans['online_order'].mode()\n",
    "most_freq_online_mode"
   ]
  },
  {
   "cell_type": "markdown",
   "id": "a46012fb-23ac-4b28-9214-4e555f75dc8c",
   "metadata": {},
   "source": [
    "- We see that the most common is 1 which is yes so we replace the missing values with 1 "
   ]
  },
  {
   "cell_type": "code",
   "execution_count": 11,
   "id": "f6deed87-eec0-45e1-812a-4a5f0645c62a",
   "metadata": {},
   "outputs": [
    {
     "name": "stderr",
     "output_type": "stream",
     "text": [
      "C:\\Users\\srivastavash\\AppData\\Local\\Temp\\ipykernel_31720\\1996507654.py:1: FutureWarning: A value is trying to be set on a copy of a DataFrame or Series through chained assignment using an inplace method.\n",
      "The behavior will change in pandas 3.0. This inplace method will never work because the intermediate object on which we are setting values always behaves as a copy.\n",
      "\n",
      "For example, when doing 'df[col].method(value, inplace=True)', try using 'df.method({col: value}, inplace=True)' or df[col] = df[col].method(value) instead, to perform the operation inplace on the original object.\n",
      "\n",
      "\n",
      "  trans['online_order'].fillna(1, inplace=True)\n"
     ]
    }
   ],
   "source": [
    "trans['online_order'].fillna(1, inplace=True)"
   ]
  },
  {
   "cell_type": "code",
   "execution_count": 14,
   "id": "faa34a19-8427-4cb0-9715-7f8ab092b512",
   "metadata": {},
   "outputs": [
    {
     "data": {
      "text/plain": [
       "0"
      ]
     },
     "execution_count": 14,
     "metadata": {},
     "output_type": "execute_result"
    }
   ],
   "source": [
    "trans['online_order'].isnull().sum()"
   ]
  },
  {
   "cell_type": "markdown",
   "id": "184afa30-0df1-4d47-b980-9765ca80ef22",
   "metadata": {},
   "source": [
    "# Brand, Product Line, Product Class, Product Size, Standard Cost, Product First Sold Date"
   ]
  },
  {
   "cell_type": "markdown",
   "id": "fd7f284b-c7f1-4e74-9672-b8385f7ff896",
   "metadata": {},
   "source": [
    "- We see that all the above columns have missing values but only compise of only around 1% of data hence we can drop these missing values"
   ]
  },
  {
   "cell_type": "code",
   "execution_count": 15,
   "id": "e87bdee1-c120-4f91-a5c5-45512a2f8494",
   "metadata": {},
   "outputs": [
    {
     "data": {
      "text/plain": [
       "197"
      ]
     },
     "execution_count": 15,
     "metadata": {},
     "output_type": "execute_result"
    }
   ],
   "source": [
    "trans[trans['brand'].isnull()][['brand', 'product_line', 'product_class', 'product_size', \n",
    "                                'standard_cost', 'product_first_sold_date']].shape[0]"
   ]
  },
  {
   "cell_type": "code",
   "execution_count": 16,
   "id": "0a7301f6-29cb-4f71-a72b-87f3a13347ae",
   "metadata": {},
   "outputs": [
    {
     "data": {
      "text/plain": [
       "Index([  136,   159,   366,   406,   676,   780,  1003,  1130,  1196,  1282,\n",
       "       ...\n",
       "       19045, 19132, 19176, 19196, 19205, 19340, 19383, 19793, 19859, 19871],\n",
       "      dtype='int64', length=197)"
      ]
     },
     "execution_count": 16,
     "metadata": {},
     "output_type": "execute_result"
    }
   ],
   "source": [
    "records_to_drop = trans[trans['brand'].isnull()][['brand', 'product_line', 'product_class', 'product_size', \n",
    "                                'standard_cost', 'product_first_sold_date']].index\n",
    "records_to_drop"
   ]
  },
  {
   "cell_type": "code",
   "execution_count": 17,
   "id": "75f80377-1736-4f4e-80ed-8047367ece45",
   "metadata": {},
   "outputs": [],
   "source": [
    "trans.drop(index= records_to_drop, axis =0, inplace = True)"
   ]
  },
  {
   "cell_type": "code",
   "execution_count": 18,
   "id": "b02729db-7446-4b3f-9dae-d7d78ab0e6e3",
   "metadata": {},
   "outputs": [
    {
     "data": {
      "text/plain": [
       "transaction_id             0\n",
       "product_id                 0\n",
       "customer_id                0\n",
       "transaction_date           0\n",
       "online_order               0\n",
       "order_status               0\n",
       "brand                      0\n",
       "product_line               0\n",
       "product_class              0\n",
       "product_size               0\n",
       "list_price                 0\n",
       "standard_cost              0\n",
       "product_first_sold_date    0\n",
       "dtype: int64"
      ]
     },
     "execution_count": 18,
     "metadata": {},
     "output_type": "execute_result"
    }
   ],
   "source": [
    "trans.isnull().sum()"
   ]
  },
  {
   "cell_type": "markdown",
   "id": "62a6648f-d6b1-44ea-b214-3a27c07c56a5",
   "metadata": {},
   "source": [
    "- Now we have no missing values in the data set "
   ]
  },
  {
   "cell_type": "markdown",
   "id": "af0604ac-2b4f-4e14-9759-4973623c4d8a",
   "metadata": {},
   "source": [
    "# Profit "
   ]
  },
  {
   "cell_type": "markdown",
   "id": "4d87ee9d-1810-4836-b2e7-5c690e5e9cd3",
   "metadata": {},
   "source": [
    "- We create a new column called Profit "
   ]
  },
  {
   "cell_type": "code",
   "execution_count": 19,
   "id": "273ede9d-9f32-4d8c-8b6b-84b5bbfe05b2",
   "metadata": {},
   "outputs": [],
   "source": [
    "trans['Profit'] = trans['list_price'] - trans['standard_cost']"
   ]
  },
  {
   "cell_type": "code",
   "execution_count": 21,
   "id": "92b9bc50-06a6-4af7-8b7b-ffee41aba872",
   "metadata": {},
   "outputs": [
    {
     "name": "stderr",
     "output_type": "stream",
     "text": [
      "C:\\Users\\srivastavash\\AppData\\Local\\Temp\\ipykernel_31720\\3093420622.py:2: UserWarning: \n",
      "\n",
      "`distplot` is a deprecated function and will be removed in seaborn v0.14.0.\n",
      "\n",
      "Please adapt your code to use either `displot` (a figure-level function with\n",
      "similar flexibility) or `histplot` (an axes-level function for histograms).\n",
      "\n",
      "For a guide to updating your code to use the new functions, please see\n",
      "https://gist.github.com/mwaskom/de44147ed2974457ad6372750bbe5751\n",
      "\n",
      "  sns.distplot(trans['Profit'])\n"
     ]
    },
    {
     "data": {
      "text/plain": [
       "<Figure size 1500x800 with 0 Axes>"
      ]
     },
     "metadata": {},
     "output_type": "display_data"
    },
    {
     "data": {
      "image/png": "[encoded data removed]",
      "text/plain": [
       "<Figure size 1500x800 with 1 Axes>"
      ]
     },
     "metadata": {},
     "output_type": "display_data"
    }
   ],
   "source": [
    "fig=plt.figure(figsize=(15,8))\n",
    "sns.distplot(trans['Profit'])\n",
    "plt.show()"
   ]
  },
  {
   "cell_type": "markdown",
   "id": "99a0d72c-1117-4335-8534-40197c21a657",
   "metadata": {},
   "source": [
    "# Inconsistency Check in Data\n",
    "## Online order "
   ]
  },
  {
   "cell_type": "code",
   "execution_count": 22,
   "id": "535d5155-2f78-4b84-9464-608a88f7ee2a",
   "metadata": {},
   "outputs": [
    {
     "data": {
      "text/plain": [
       "online_order\n",
       "1.0    10097\n",
       "0.0     9706\n",
       "Name: count, dtype: int64"
      ]
     },
     "execution_count": 22,
     "metadata": {},
     "output_type": "execute_result"
    }
   ],
   "source": [
    "trans['online_order'].value_counts()"
   ]
  },
  {
   "cell_type": "markdown",
   "id": "49443114-bd6f-4d8a-bcf4-0a7c1b6989fa",
   "metadata": {},
   "source": [
    "- No inconsistancy"
   ]
  },
  {
   "cell_type": "markdown",
   "id": "c488791e-73f9-4229-ae08-94fe52e275fe",
   "metadata": {},
   "source": [
    "# Order Status"
   ]
  },
  {
   "cell_type": "code",
   "execution_count": 23,
   "id": "bf9925c2-8aec-4f90-89e6-d5cce971d6c9",
   "metadata": {},
   "outputs": [
    {
     "data": {
      "text/plain": [
       "order_status\n",
       "Approved     19625\n",
       "Cancelled      178\n",
       "Name: count, dtype: int64"
      ]
     },
     "execution_count": 23,
     "metadata": {},
     "output_type": "execute_result"
    }
   ],
   "source": [
    "trans['order_status'].value_counts()"
   ]
  },
  {
   "cell_type": "markdown",
   "id": "a9a9abb5-cb79-469e-b2c1-7f642bd94793",
   "metadata": {},
   "source": [
    "- No inconsistancies"
   ]
  },
  {
   "cell_type": "markdown",
   "id": "c99957ed-1e37-4dbc-957d-7b99847cc683",
   "metadata": {},
   "source": [
    "# Product Line"
   ]
  },
  {
   "cell_type": "code",
   "execution_count": 24,
   "id": "7481ae10-7a52-4d01-995b-5ca79e1b3f97",
   "metadata": {},
   "outputs": [
    {
     "data": {
      "text/plain": [
       "product_line\n",
       "Standard    14176\n",
       "Road         3970\n",
       "Touring      1234\n",
       "Mountain      423\n",
       "Name: count, dtype: int64"
      ]
     },
     "execution_count": 24,
     "metadata": {},
     "output_type": "execute_result"
    }
   ],
   "source": [
    "trans['product_line'].value_counts()"
   ]
  },
  {
   "cell_type": "markdown",
   "id": "4a7f7f4d-1e4e-4f63-a61f-6c9863f56898",
   "metadata": {},
   "source": [
    "- No inconsistancy"
   ]
  },
  {
   "cell_type": "markdown",
   "id": "8297f610-1842-4b0d-9adb-a0df5588de53",
   "metadata": {},
   "source": [
    "# Product Class"
   ]
  },
  {
   "cell_type": "code",
   "execution_count": 27,
   "id": "3b09e11f-2cd8-4ecd-a235-57463b2e5da2",
   "metadata": {},
   "outputs": [
    {
     "data": {
      "text/plain": [
       "product_class\n",
       "medium    13826\n",
       "high       3013\n",
       "low        2964\n",
       "Name: count, dtype: int64"
      ]
     },
     "execution_count": 27,
     "metadata": {},
     "output_type": "execute_result"
    }
   ],
   "source": [
    "trans['product_class'].value_counts()"
   ]
  },
  {
   "cell_type": "markdown",
   "id": "19b05ed6-5834-4afd-ba7f-63e041114e71",
   "metadata": {},
   "source": [
    "- no inconsitancy"
   ]
  },
  {
   "cell_type": "markdown",
   "id": "0d4b05cf-f1f5-468f-ad5c-d70c070e8cca",
   "metadata": {},
   "source": [
    "# Product Size"
   ]
  },
  {
   "cell_type": "code",
   "execution_count": 28,
   "id": "1ea349fc-353f-4848-80ef-58ede8bef26a",
   "metadata": {},
   "outputs": [
    {
     "data": {
      "text/plain": [
       "product_size\n",
       "medium    12990\n",
       "large      3976\n",
       "small      2837\n",
       "Name: count, dtype: int64"
      ]
     },
     "execution_count": 28,
     "metadata": {},
     "output_type": "execute_result"
    }
   ],
   "source": [
    "trans['product_size'].value_counts()"
   ]
  },
  {
   "cell_type": "markdown",
   "id": "d0ecc2c8-f695-4c66-b49a-48dc8b36b3ee",
   "metadata": {},
   "source": [
    "- No inconsistancy"
   ]
  },
  {
   "cell_type": "markdown",
   "id": "1e4b0315-090e-44e8-8b32-5eef5edd0356",
   "metadata": {},
   "source": [
    "# Brand"
   ]
  },
  {
   "cell_type": "code",
   "execution_count": 29,
   "id": "c593147d-6ec4-46b8-81e7-2df26abdf0f8",
   "metadata": {},
   "outputs": [
    {
     "data": {
      "text/plain": [
       "brand\n",
       "Solex             4253\n",
       "Giant Bicycles    3312\n",
       "WeareA2B          3295\n",
       "OHM Cycles        3043\n",
       "Trek Bicycles     2990\n",
       "Norco Bicycles    2910\n",
       "Name: count, dtype: int64"
      ]
     },
     "execution_count": 29,
     "metadata": {},
     "output_type": "execute_result"
    }
   ],
   "source": [
    "trans['brand'].value_counts()"
   ]
  },
  {
   "cell_type": "markdown",
   "id": "2243fed0-29e2-4b59-9762-5e2d124c9faf",
   "metadata": {},
   "source": [
    "- No inconsistancy"
   ]
  },
  {
   "cell_type": "markdown",
   "id": "b6c9aee8-60a6-4bab-a42f-9d6d7fbe2bbe",
   "metadata": {},
   "source": [
    "# Duplication Check"
   ]
  },
  {
   "cell_type": "code",
   "execution_count": 31,
   "id": "8f1aca6e-385e-4717-ba5e-e88a7a974e01",
   "metadata": {},
   "outputs": [
    {
     "name": "stdout",
     "output_type": "stream",
     "text": [
      "Number of records after removing customer_id (pk), duplicates : 19803\n",
      "Number of records in original dataset : 19803\n"
     ]
    }
   ],
   "source": [
    "trans_dedupped = trans.drop('transaction_id', axis=1).drop_duplicates()\n",
    "\n",
    "print('Number of records after removing customer_id (pk), duplicates : {}'.format(trans_dedupped.shape[0]))\n",
    "print('Number of records in original dataset : {}'.format(trans.shape[0]))"
   ]
  },
  {
   "cell_type": "markdown",
   "id": "0ba76b39-4023-48c1-bcb0-60fbd0b82cb5",
   "metadata": {},
   "source": [
    "#  Exporting the Cleaned Transactions Data Set to csv"
   ]
  },
  {
   "cell_type": "code",
   "execution_count": 32,
   "id": "753ccfb5-3c56-4214-8b65-a6cab09d2bdd",
   "metadata": {},
   "outputs": [],
   "source": [
    "trans.to_csv('Transactions_Cleaned.csv', index=False)"
   ]
  },
  {
   "cell_type": "code",
   "execution_count": null,
   "id": "7c95a26f-00ab-4220-bb0d-257c35847356",
   "metadata": {},
   "outputs": [],
   "source": []
  }
 ],
 "metadata": {
  "kernelspec": {
   "display_name": "Python 3 (ipykernel)",
   "language": "python",
   "name": "python3"
  },
  "language_info": {
   "codemirror_mode": {
    "name": "ipython",
    "version": 3
   },
   "file_extension": ".py",
   "mimetype": "text/x-python",
   "name": "python",
   "nbconvert_exporter": "python",
   "pygments_lexer": "ipython3",
   "version": "3.12.7"
  }
 },
 "nbformat": 4,
 "nbformat_minor": 5
}
