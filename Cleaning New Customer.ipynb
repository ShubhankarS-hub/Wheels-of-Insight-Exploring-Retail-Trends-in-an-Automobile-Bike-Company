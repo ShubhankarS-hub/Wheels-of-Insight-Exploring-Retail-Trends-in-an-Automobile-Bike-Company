{
 "cells": [
  {
   "cell_type": "markdown",
   "id": "53cf5c06-4b01-4f10-b224-4b621d313778",
   "metadata": {},
   "source": [
    "# Data Cleaning new customer list"
   ]
  },
  {
   "cell_type": "code",
   "execution_count": 1,
   "id": "f5d7e8d9-fa50-4aa2-85b3-4eb768ae48f7",
   "metadata": {},
   "outputs": [],
   "source": [
    "import math\n",
    "import pandas as pd\n",
    "import numpy as np\n",
    "import matplotlib.pyplot as plt\n",
    "import seaborn as sns\n",
    "%matplotlib inline\n",
    "\n",
    "from datetime import datetime, date\n",
    "plt.style.use('ggplot')"
   ]
  },
  {
   "cell_type": "code",
   "execution_count": 2,
   "id": "cd7854d3-3bd4-4a6a-add6-39c9271d43ef",
   "metadata": {},
   "outputs": [],
   "source": [
    "new_cust = pd.read_excel('Raw_data.xlsx', sheet_name='NewCustomerList')"
   ]
  },
  {
   "cell_type": "code",
   "execution_count": 3,
   "id": "cc392c79-c0f3-42f0-8e34-bd477ffd1fde",
   "metadata": {},
   "outputs": [
    {
     "data": {
      "text/html": [
       "<div>\n",
       "<style scoped>\n",
       "    .dataframe tbody tr th:only-of-type {\n",
       "        vertical-align: middle;\n",
       "    }\n",
       "\n",
       "    .dataframe tbody tr th {\n",
       "        vertical-align: top;\n",
       "    }\n",
       "\n",
       "    .dataframe thead th {\n",
       "        text-align: right;\n",
       "    }\n",
       "</style>\n",
       "<table border=\"1\" class=\"dataframe\">\n",
       "  <thead>\n",
       "    <tr style=\"text-align: right;\">\n",
       "      <th></th>\n",
       "      <th>first_name</th>\n",
       "      <th>last_name</th>\n",
       "      <th>gender</th>\n",
       "      <th>past_3_years_bike_related_purchases</th>\n",
       "      <th>DOB</th>\n",
       "      <th>job_title</th>\n",
       "      <th>job_industry_category</th>\n",
       "      <th>wealth_segment</th>\n",
       "      <th>deceased_indicator</th>\n",
       "      <th>owns_car</th>\n",
       "      <th>...</th>\n",
       "      <th>state</th>\n",
       "      <th>country</th>\n",
       "      <th>property_valuation</th>\n",
       "      <th>Unnamed: 16</th>\n",
       "      <th>Unnamed: 17</th>\n",
       "      <th>Unnamed: 18</th>\n",
       "      <th>Unnamed: 19</th>\n",
       "      <th>Unnamed: 20</th>\n",
       "      <th>Rank</th>\n",
       "      <th>Value</th>\n",
       "    </tr>\n",
       "  </thead>\n",
       "  <tbody>\n",
       "    <tr>\n",
       "      <th>0</th>\n",
       "      <td>Chickie</td>\n",
       "      <td>Brister</td>\n",
       "      <td>Male</td>\n",
       "      <td>86</td>\n",
       "      <td>1957-07-12</td>\n",
       "      <td>General Manager</td>\n",
       "      <td>Manufacturing</td>\n",
       "      <td>Mass Customer</td>\n",
       "      <td>N</td>\n",
       "      <td>Yes</td>\n",
       "      <td>...</td>\n",
       "      <td>QLD</td>\n",
       "      <td>Australia</td>\n",
       "      <td>6</td>\n",
       "      <td>0.81</td>\n",
       "      <td>1.0125</td>\n",
       "      <td>1.265625</td>\n",
       "      <td>1.075781</td>\n",
       "      <td>1</td>\n",
       "      <td>1</td>\n",
       "      <td>1.718750</td>\n",
       "    </tr>\n",
       "    <tr>\n",
       "      <th>1</th>\n",
       "      <td>Morly</td>\n",
       "      <td>Genery</td>\n",
       "      <td>Male</td>\n",
       "      <td>69</td>\n",
       "      <td>1970-03-22</td>\n",
       "      <td>Structural Engineer</td>\n",
       "      <td>Property</td>\n",
       "      <td>Mass Customer</td>\n",
       "      <td>N</td>\n",
       "      <td>No</td>\n",
       "      <td>...</td>\n",
       "      <td>NSW</td>\n",
       "      <td>Australia</td>\n",
       "      <td>11</td>\n",
       "      <td>0.75</td>\n",
       "      <td>0.7500</td>\n",
       "      <td>0.937500</td>\n",
       "      <td>0.796875</td>\n",
       "      <td>1</td>\n",
       "      <td>1</td>\n",
       "      <td>1.718750</td>\n",
       "    </tr>\n",
       "    <tr>\n",
       "      <th>2</th>\n",
       "      <td>Ardelis</td>\n",
       "      <td>Forrester</td>\n",
       "      <td>Female</td>\n",
       "      <td>10</td>\n",
       "      <td>1974-08-28 00:00:00</td>\n",
       "      <td>Senior Cost Accountant</td>\n",
       "      <td>Financial Services</td>\n",
       "      <td>Affluent Customer</td>\n",
       "      <td>N</td>\n",
       "      <td>No</td>\n",
       "      <td>...</td>\n",
       "      <td>VIC</td>\n",
       "      <td>Australia</td>\n",
       "      <td>5</td>\n",
       "      <td>0.71</td>\n",
       "      <td>0.7100</td>\n",
       "      <td>0.710000</td>\n",
       "      <td>0.710000</td>\n",
       "      <td>1</td>\n",
       "      <td>1</td>\n",
       "      <td>1.718750</td>\n",
       "    </tr>\n",
       "    <tr>\n",
       "      <th>3</th>\n",
       "      <td>Lucine</td>\n",
       "      <td>Stutt</td>\n",
       "      <td>Female</td>\n",
       "      <td>64</td>\n",
       "      <td>1979-01-28</td>\n",
       "      <td>Account Representative III</td>\n",
       "      <td>Manufacturing</td>\n",
       "      <td>Affluent Customer</td>\n",
       "      <td>N</td>\n",
       "      <td>Yes</td>\n",
       "      <td>...</td>\n",
       "      <td>QLD</td>\n",
       "      <td>Australia</td>\n",
       "      <td>1</td>\n",
       "      <td>0.50</td>\n",
       "      <td>0.6250</td>\n",
       "      <td>0.625000</td>\n",
       "      <td>0.625000</td>\n",
       "      <td>4</td>\n",
       "      <td>4</td>\n",
       "      <td>1.703125</td>\n",
       "    </tr>\n",
       "    <tr>\n",
       "      <th>4</th>\n",
       "      <td>Melinda</td>\n",
       "      <td>Hadlee</td>\n",
       "      <td>Female</td>\n",
       "      <td>34</td>\n",
       "      <td>1965-09-21</td>\n",
       "      <td>Financial Analyst</td>\n",
       "      <td>Financial Services</td>\n",
       "      <td>Affluent Customer</td>\n",
       "      <td>N</td>\n",
       "      <td>No</td>\n",
       "      <td>...</td>\n",
       "      <td>NSW</td>\n",
       "      <td>Australia</td>\n",
       "      <td>9</td>\n",
       "      <td>0.99</td>\n",
       "      <td>0.9900</td>\n",
       "      <td>1.237500</td>\n",
       "      <td>1.237500</td>\n",
       "      <td>4</td>\n",
       "      <td>4</td>\n",
       "      <td>1.703125</td>\n",
       "    </tr>\n",
       "  </tbody>\n",
       "</table>\n",
       "<p>5 rows × 23 columns</p>\n",
       "</div>"
      ],
      "text/plain": [
       "  first_name  last_name  gender  past_3_years_bike_related_purchases  \\\n",
       "0    Chickie    Brister    Male                                   86   \n",
       "1      Morly     Genery    Male                                   69   \n",
       "2    Ardelis  Forrester  Female                                   10   \n",
       "3     Lucine      Stutt  Female                                   64   \n",
       "4    Melinda     Hadlee  Female                                   34   \n",
       "\n",
       "                   DOB                   job_title job_industry_category  \\\n",
       "0           1957-07-12             General Manager         Manufacturing   \n",
       "1           1970-03-22         Structural Engineer              Property   \n",
       "2  1974-08-28 00:00:00      Senior Cost Accountant    Financial Services   \n",
       "3           1979-01-28  Account Representative III         Manufacturing   \n",
       "4           1965-09-21           Financial Analyst    Financial Services   \n",
       "\n",
       "      wealth_segment deceased_indicator owns_car  ...  state    country  \\\n",
       "0      Mass Customer                  N      Yes  ...    QLD  Australia   \n",
       "1      Mass Customer                  N       No  ...    NSW  Australia   \n",
       "2  Affluent Customer                  N       No  ...    VIC  Australia   \n",
       "3  Affluent Customer                  N      Yes  ...    QLD  Australia   \n",
       "4  Affluent Customer                  N       No  ...    NSW  Australia   \n",
       "\n",
       "   property_valuation Unnamed: 16 Unnamed: 17  Unnamed: 18  Unnamed: 19  \\\n",
       "0                   6        0.81      1.0125     1.265625     1.075781   \n",
       "1                  11        0.75      0.7500     0.937500     0.796875   \n",
       "2                   5        0.71      0.7100     0.710000     0.710000   \n",
       "3                   1        0.50      0.6250     0.625000     0.625000   \n",
       "4                   9        0.99      0.9900     1.237500     1.237500   \n",
       "\n",
       "   Unnamed: 20  Rank     Value  \n",
       "0            1     1  1.718750  \n",
       "1            1     1  1.718750  \n",
       "2            1     1  1.718750  \n",
       "3            4     4  1.703125  \n",
       "4            4     4  1.703125  \n",
       "\n",
       "[5 rows x 23 columns]"
      ]
     },
     "execution_count": 3,
     "metadata": {},
     "output_type": "execute_result"
    }
   ],
   "source": [
    "new_cust.head()"
   ]
  },
  {
   "cell_type": "code",
   "execution_count": 4,
   "id": "eb8f5148-9450-4eb6-9fee-9aa9a7d8d3ce",
   "metadata": {},
   "outputs": [
    {
     "name": "stdout",
     "output_type": "stream",
     "text": [
      "<class 'pandas.core.frame.DataFrame'>\n",
      "RangeIndex: 1000 entries, 0 to 999\n",
      "Data columns (total 23 columns):\n",
      " #   Column                               Non-Null Count  Dtype  \n",
      "---  ------                               --------------  -----  \n",
      " 0   first_name                           1000 non-null   object \n",
      " 1   last_name                            971 non-null    object \n",
      " 2   gender                               1000 non-null   object \n",
      " 3   past_3_years_bike_related_purchases  1000 non-null   int64  \n",
      " 4   DOB                                  983 non-null    object \n",
      " 5   job_title                            894 non-null    object \n",
      " 6   job_industry_category                835 non-null    object \n",
      " 7   wealth_segment                       1000 non-null   object \n",
      " 8   deceased_indicator                   1000 non-null   object \n",
      " 9   owns_car                             1000 non-null   object \n",
      " 10  tenure                               1000 non-null   int64  \n",
      " 11  address                              1000 non-null   object \n",
      " 12  postcode                             1000 non-null   int64  \n",
      " 13  state                                1000 non-null   object \n",
      " 14  country                              1000 non-null   object \n",
      " 15  property_valuation                   1000 non-null   int64  \n",
      " 16  Unnamed: 16                          1000 non-null   float64\n",
      " 17  Unnamed: 17                          1000 non-null   float64\n",
      " 18  Unnamed: 18                          1000 non-null   float64\n",
      " 19  Unnamed: 19                          1000 non-null   float64\n",
      " 20  Unnamed: 20                          1000 non-null   int64  \n",
      " 21  Rank                                 1000 non-null   int64  \n",
      " 22  Value                                1000 non-null   float64\n",
      "dtypes: float64(5), int64(6), object(12)\n",
      "memory usage: 179.8+ KB\n"
     ]
    }
   ],
   "source": [
    "new_cust.info()"
   ]
  },
  {
   "cell_type": "markdown",
   "id": "79544b11-7a8d-4a87-b5cf-bdcc6e0d412f",
   "metadata": {},
   "source": [
    "- Dataset unname 16-20 are irrelevant data sets "
   ]
  },
  {
   "cell_type": "markdown",
   "id": "e9199800-659d-46c6-a395-b90f78207be7",
   "metadata": {},
   "source": [
    "# Checking Total Records"
   ]
  },
  {
   "cell_type": "code",
   "execution_count": 5,
   "id": "5423449c-464f-458d-ae9f-07756ae65136",
   "metadata": {},
   "outputs": [
    {
     "name": "stdout",
     "output_type": "stream",
     "text": [
      "Total number of rows in the data are: 1000\n",
      "Total number of columns in the data are: 23\n"
     ]
    }
   ],
   "source": [
    "print(\"Total number of rows in the data are: {}\".format(new_cust.shape[0]))\n",
    "print(\"Total number of columns in the data are: {}\".format(new_cust.shape[1]))"
   ]
  },
  {
   "cell_type": "markdown",
   "id": "11a137cd-4aea-4e3a-835d-b326a8de3a47",
   "metadata": {},
   "source": [
    "# Numeric and Non Numeric Values"
   ]
  },
  {
   "cell_type": "code",
   "execution_count": 7,
   "id": "88f44bf0-d173-4f80-b406-f6e78bcf1b4e",
   "metadata": {},
   "outputs": [
    {
     "data": {
      "text/plain": [
       "array(['past_3_years_bike_related_purchases', 'tenure', 'postcode',\n",
       "       'property_valuation', 'Unnamed: 16', 'Unnamed: 17', 'Unnamed: 18',\n",
       "       'Unnamed: 19', 'Unnamed: 20', 'Rank', 'Value'], dtype=object)"
      ]
     },
     "execution_count": 7,
     "metadata": {},
     "output_type": "execute_result"
    }
   ],
   "source": [
    "df_numeric = new_cust.select_dtypes(include=[np.number])\n",
    "numeric_cols = df_numeric.columns.values\n",
    "numeric_cols"
   ]
  },
  {
   "cell_type": "code",
   "execution_count": 8,
   "id": "849ad074-6772-47b6-b252-0278758c2a3b",
   "metadata": {},
   "outputs": [
    {
     "data": {
      "text/plain": [
       "array(['first_name', 'last_name', 'gender', 'DOB', 'job_title',\n",
       "       'job_industry_category', 'wealth_segment', 'deceased_indicator',\n",
       "       'owns_car', 'address', 'state', 'country'], dtype=object)"
      ]
     },
     "execution_count": 8,
     "metadata": {},
     "output_type": "execute_result"
    }
   ],
   "source": [
    "df_non_numeric = new_cust.select_dtypes(exclude=[np.number])\n",
    "non_numeric_cols = df_non_numeric.columns.values\n",
    "non_numeric_cols"
   ]
  },
  {
   "cell_type": "markdown",
   "id": "21e986ed-45a4-4ad2-91cb-617bc594372d",
   "metadata": {},
   "source": [
    "# Dropping Irrelevant Columns "
   ]
  },
  {
   "cell_type": "code",
   "execution_count": 9,
   "id": "5257647c-4c5e-4183-82fd-c9a22d53feb3",
   "metadata": {},
   "outputs": [],
   "source": [
    "new_cust.drop(labels=['Unnamed: 16','Unnamed: 17','Unnamed: 18','Unnamed: 19','Unnamed: 20'], axis=1 , inplace=True)"
   ]
  },
  {
   "cell_type": "code",
   "execution_count": 10,
   "id": "9021114b-8623-418f-872b-f94da6bbf58f",
   "metadata": {},
   "outputs": [
    {
     "name": "stdout",
     "output_type": "stream",
     "text": [
      "<class 'pandas.core.frame.DataFrame'>\n",
      "RangeIndex: 1000 entries, 0 to 999\n",
      "Data columns (total 18 columns):\n",
      " #   Column                               Non-Null Count  Dtype  \n",
      "---  ------                               --------------  -----  \n",
      " 0   first_name                           1000 non-null   object \n",
      " 1   last_name                            971 non-null    object \n",
      " 2   gender                               1000 non-null   object \n",
      " 3   past_3_years_bike_related_purchases  1000 non-null   int64  \n",
      " 4   DOB                                  983 non-null    object \n",
      " 5   job_title                            894 non-null    object \n",
      " 6   job_industry_category                835 non-null    object \n",
      " 7   wealth_segment                       1000 non-null   object \n",
      " 8   deceased_indicator                   1000 non-null   object \n",
      " 9   owns_car                             1000 non-null   object \n",
      " 10  tenure                               1000 non-null   int64  \n",
      " 11  address                              1000 non-null   object \n",
      " 12  postcode                             1000 non-null   int64  \n",
      " 13  state                                1000 non-null   object \n",
      " 14  country                              1000 non-null   object \n",
      " 15  property_valuation                   1000 non-null   int64  \n",
      " 16  Rank                                 1000 non-null   int64  \n",
      " 17  Value                                1000 non-null   float64\n",
      "dtypes: float64(1), int64(5), object(12)\n",
      "memory usage: 140.8+ KB\n"
     ]
    }
   ],
   "source": [
    "new_cust.info()"
   ]
  },
  {
   "cell_type": "markdown",
   "id": "d203e110-795f-4520-84ba-898c35c2d66f",
   "metadata": {},
   "source": [
    "# Missing Value Check "
   ]
  },
  {
   "cell_type": "code",
   "execution_count": 11,
   "id": "a5a157a0-aca5-4281-83cf-7d9043456c93",
   "metadata": {},
   "outputs": [
    {
     "data": {
      "text/plain": [
       "first_name                               0\n",
       "last_name                               29\n",
       "gender                                   0\n",
       "past_3_years_bike_related_purchases      0\n",
       "DOB                                     17\n",
       "job_title                              106\n",
       "job_industry_category                  165\n",
       "wealth_segment                           0\n",
       "deceased_indicator                       0\n",
       "owns_car                                 0\n",
       "tenure                                   0\n",
       "address                                  0\n",
       "postcode                                 0\n",
       "state                                    0\n",
       "country                                  0\n",
       "property_valuation                       0\n",
       "Rank                                     0\n",
       "Value                                    0\n",
       "dtype: int64"
      ]
     },
     "execution_count": 11,
     "metadata": {},
     "output_type": "execute_result"
    }
   ],
   "source": [
    "new_cust.isnull().sum()"
   ]
  },
  {
   "cell_type": "markdown",
   "id": "7e4d503d-3779-47fa-80a0-2b3950ecda50",
   "metadata": {},
   "source": [
    "# Last Name"
   ]
  },
  {
   "cell_type": "code",
   "execution_count": 12,
   "id": "b11bf0d0-e799-4928-be91-f0e018c76f6d",
   "metadata": {},
   "outputs": [
    {
     "data": {
      "text/plain": [
       "first_name    0\n",
       "dtype: int64"
      ]
     },
     "execution_count": 12,
     "metadata": {},
     "output_type": "execute_result"
    }
   ],
   "source": [
    "new_cust[new_cust['last_name'].isnull()][['first_name']].isnull().sum()"
   ]
  },
  {
   "cell_type": "markdown",
   "id": "601ee484-c904-4c79-b046-122d50289fcb",
   "metadata": {},
   "source": [
    "- Since All customers have a First name, all the customers are identifiable. Hence it is okay for to not have a last name. Filling null last names with \"None\""
   ]
  },
  {
   "cell_type": "code",
   "execution_count": 13,
   "id": "a737575f-52ab-4179-bf30-14f9bf584255",
   "metadata": {},
   "outputs": [
    {
     "name": "stderr",
     "output_type": "stream",
     "text": [
      "C:\\Users\\srivastavash\\AppData\\Local\\Temp\\ipykernel_352\\2970099852.py:1: FutureWarning: A value is trying to be set on a copy of a DataFrame or Series through chained assignment using an inplace method.\n",
      "The behavior will change in pandas 3.0. This inplace method will never work because the intermediate object on which we are setting values always behaves as a copy.\n",
      "\n",
      "For example, when doing 'df[col].method(value, inplace=True)', try using 'df.method({col: value}, inplace=True)' or df[col] = df[col].method(value) instead, to perform the operation inplace on the original object.\n",
      "\n",
      "\n",
      "  new_cust['last_name'].fillna('None',axis=0, inplace=True)\n"
     ]
    }
   ],
   "source": [
    "new_cust['last_name'].fillna('None',axis=0, inplace=True)"
   ]
  },
  {
   "cell_type": "code",
   "execution_count": 14,
   "id": "b1fe8deb-fc8c-41ac-a6a8-37dae3ced163",
   "metadata": {},
   "outputs": [
    {
     "data": {
      "text/plain": [
       "0"
      ]
     },
     "execution_count": 14,
     "metadata": {},
     "output_type": "execute_result"
    }
   ],
   "source": [
    "new_cust['last_name'].isnull().sum()"
   ]
  },
  {
   "cell_type": "markdown",
   "id": "bef8fbd5-3574-4f1f-9074-26c619cb16d7",
   "metadata": {},
   "source": [
    "# Date of Birth"
   ]
  },
  {
   "cell_type": "code",
   "execution_count": 17,
   "id": "25c6a4d0-d2c1-49c6-b3e9-e316cb09bc74",
   "metadata": {},
   "outputs": [
    {
     "data": {
      "text/plain": [
       "17"
      ]
     },
     "execution_count": 17,
     "metadata": {},
     "output_type": "execute_result"
    }
   ],
   "source": [
    "new_cust['DOB'].isnull().sum()"
   ]
  },
  {
   "cell_type": "code",
   "execution_count": 19,
   "id": "cc75562d-926a-4b67-8d73-03502c796213",
   "metadata": {},
   "outputs": [],
   "source": [
    "new_cust.drop(index=new_cust[new_cust['DOB'].isnull()].index, inplace=True, axis=0)"
   ]
  },
  {
   "cell_type": "code",
   "execution_count": 20,
   "id": "92bc1c90-b276-4bc3-8738-d59854d412fd",
   "metadata": {},
   "outputs": [
    {
     "data": {
      "text/plain": [
       "0"
      ]
     },
     "execution_count": 20,
     "metadata": {},
     "output_type": "execute_result"
    }
   ],
   "source": [
    "new_cust['DOB'].isnull().sum()"
   ]
  },
  {
   "cell_type": "markdown",
   "id": "17887665-1af4-4389-ad5c-37debb2a5566",
   "metadata": {},
   "source": [
    "# Creating Age Column for checking further descripency in data"
   ]
  },
  {
   "cell_type": "code",
   "execution_count": 22,
   "id": "92926c6b-209a-4809-8257-c726508f0e9f",
   "metadata": {},
   "outputs": [],
   "source": [
    "\n",
    "def age(born):\n",
    "    today = date.today()\n",
    "    \n",
    "    return today.year - born.year - ((today.month, today.day) < (born.month, born.day))\n",
    "new_cust['DOB'] = pd.to_datetime(new_cust['DOB'])\n",
    "new_cust['Age'] = new_cust['DOB'].apply(age)"
   ]
  },
  {
   "cell_type": "code",
   "execution_count": 23,
   "id": "f7fa2800-3f57-44fd-a85c-53f6b435fc93",
   "metadata": {},
   "outputs": [
    {
     "data": {
      "text/plain": [
       "count    983.000000\n",
       "mean      53.520855\n",
       "std       17.045444\n",
       "min       23.000000\n",
       "25%       41.500000\n",
       "50%       53.000000\n",
       "75%       67.000000\n",
       "max       86.000000\n",
       "Name: Age, dtype: float64"
      ]
     },
     "execution_count": 23,
     "metadata": {},
     "output_type": "execute_result"
    }
   ],
   "source": [
    "new_cust['Age'].describe()"
   ]
  },
  {
   "cell_type": "code",
   "execution_count": 26,
   "id": "a10ed711-a2b8-4385-9fb5-56f008de816f",
   "metadata": {},
   "outputs": [
    {
     "name": "stderr",
     "output_type": "stream",
     "text": [
      "C:\\Users\\srivastavash\\AppData\\Local\\Temp\\ipykernel_352\\1404664401.py:2: UserWarning: \n",
      "\n",
      "`distplot` is a deprecated function and will be removed in seaborn v0.14.0.\n",
      "\n",
      "Please adapt your code to use either `displot` (a figure-level function with\n",
      "similar flexibility) or `histplot` (an axes-level function for histograms).\n",
      "\n",
      "For a guide to updating your code to use the new functions, please see\n",
      "https://gist.github.com/mwaskom/de44147ed2974457ad6372750bbe5751\n",
      "\n",
      "  sns.distplot(new_cust['Age'], kde=False, bins=50)\n"
     ]
    },
    {
     "data": {
      "image/png": "[encoded data removed]",
      "text/plain": [
       "<Figure size 1500x800 with 1 Axes>"
      ]
     },
     "metadata": {},
     "output_type": "display_data"
    }
   ],
   "source": [
    "plt.figure(figsize=(15,8))\n",
    "sns.distplot(new_cust['Age'], kde=False, bins=50)\n",
    "plt.show()"
   ]
  },
  {
   "cell_type": "code",
   "execution_count": 26,
   "id": "677fec71-f9ec-4ebd-afaf-23ef6ec1a514",
   "metadata": {},
   "outputs": [
    {
     "name": "stderr",
     "output_type": "stream",
     "text": [
      "C:\\Users\\srivastavash\\AppData\\Local\\Temp\\ipykernel_352\\1404664401.py:2: UserWarning: \n",
      "\n",
      "`distplot` is a deprecated function and will be removed in seaborn v0.14.0.\n",
      "\n",
      "Please adapt your code to use either `displot` (a figure-level function with\n",
      "similar flexibility) or `histplot` (an axes-level function for histograms).\n",
      "\n",
      "For a guide to updating your code to use the new functions, please see\n",
      "https://gist.github.com/mwaskom/de44147ed2974457ad6372750bbe5751\n",
      "\n",
      "  sns.distplot(new_cust['Age'], kde=False, bins=50)\n"
     ]
    },
    {
     "data": {
      "image/png": "[encoded data removed]",
      "text/plain": [
       "<Figure size 1500x800 with 1 Axes>"
      ]
     },
     "metadata": {},
     "output_type": "display_data"
    }
   ],
   "source": [
    "plt.figure(figsize=(15,8))\n",
    "sns.distplot(new_cust['Age'], kde=False, bins=50)\n",
    "plt.show()"
   ]
  },
  {
   "cell_type": "markdown",
   "id": "a4d09ba9-06d0-4b4b-bd0d-18e1ecaa6638",
   "metadata": {},
   "source": [
    "- Looking at this data we can say that there is no descrpancies in age data "
   ]
  },
  {
   "cell_type": "markdown",
   "id": "0e3ab530-5a54-4c97-a237-cf5ed7cde7ab",
   "metadata": {},
   "source": [
    "# Job Title"
   ]
  },
  {
   "cell_type": "code",
   "execution_count": 28,
   "id": "5042bad6-5c6e-41d5-8a89-e3ded1f7726f",
   "metadata": {},
   "outputs": [
    {
     "data": {
      "text/html": [
       "<div>\n",
       "<style scoped>\n",
       "    .dataframe tbody tr th:only-of-type {\n",
       "        vertical-align: middle;\n",
       "    }\n",
       "\n",
       "    .dataframe tbody tr th {\n",
       "        vertical-align: top;\n",
       "    }\n",
       "\n",
       "    .dataframe thead th {\n",
       "        text-align: right;\n",
       "    }\n",
       "</style>\n",
       "<table border=\"1\" class=\"dataframe\">\n",
       "  <thead>\n",
       "    <tr style=\"text-align: right;\">\n",
       "      <th></th>\n",
       "      <th>first_name</th>\n",
       "      <th>last_name</th>\n",
       "      <th>gender</th>\n",
       "      <th>past_3_years_bike_related_purchases</th>\n",
       "      <th>DOB</th>\n",
       "      <th>job_title</th>\n",
       "      <th>job_industry_category</th>\n",
       "      <th>wealth_segment</th>\n",
       "      <th>deceased_indicator</th>\n",
       "      <th>owns_car</th>\n",
       "      <th>tenure</th>\n",
       "      <th>address</th>\n",
       "      <th>postcode</th>\n",
       "      <th>state</th>\n",
       "      <th>country</th>\n",
       "      <th>property_valuation</th>\n",
       "      <th>Rank</th>\n",
       "      <th>Value</th>\n",
       "      <th>Age</th>\n",
       "    </tr>\n",
       "  </thead>\n",
       "  <tbody>\n",
       "    <tr>\n",
       "      <th>15</th>\n",
       "      <td>Dukie</td>\n",
       "      <td>Swire</td>\n",
       "      <td>Male</td>\n",
       "      <td>88</td>\n",
       "      <td>1954-03-31</td>\n",
       "      <td>NaN</td>\n",
       "      <td>Manufacturing</td>\n",
       "      <td>Affluent Customer</td>\n",
       "      <td>N</td>\n",
       "      <td>Yes</td>\n",
       "      <td>5</td>\n",
       "      <td>64 Granby Parkway</td>\n",
       "      <td>2500</td>\n",
       "      <td>NSW</td>\n",
       "      <td>Australia</td>\n",
       "      <td>8</td>\n",
       "      <td>16</td>\n",
       "      <td>1.562500</td>\n",
       "      <td>71</td>\n",
       "    </tr>\n",
       "    <tr>\n",
       "      <th>25</th>\n",
       "      <td>Rourke</td>\n",
       "      <td>Gillbard</td>\n",
       "      <td>Male</td>\n",
       "      <td>11</td>\n",
       "      <td>1945-08-03</td>\n",
       "      <td>NaN</td>\n",
       "      <td>Property</td>\n",
       "      <td>Mass Customer</td>\n",
       "      <td>N</td>\n",
       "      <td>No</td>\n",
       "      <td>17</td>\n",
       "      <td>75 Cordelia Trail</td>\n",
       "      <td>4817</td>\n",
       "      <td>QLD</td>\n",
       "      <td>Australia</td>\n",
       "      <td>4</td>\n",
       "      <td>26</td>\n",
       "      <td>1.468750</td>\n",
       "      <td>79</td>\n",
       "    </tr>\n",
       "    <tr>\n",
       "      <th>29</th>\n",
       "      <td>Rhona</td>\n",
       "      <td>De Freyne</td>\n",
       "      <td>Female</td>\n",
       "      <td>45</td>\n",
       "      <td>1960-11-22</td>\n",
       "      <td>NaN</td>\n",
       "      <td>Health</td>\n",
       "      <td>High Net Worth</td>\n",
       "      <td>N</td>\n",
       "      <td>No</td>\n",
       "      <td>8</td>\n",
       "      <td>11184 East Drive</td>\n",
       "      <td>3056</td>\n",
       "      <td>VIC</td>\n",
       "      <td>Australia</td>\n",
       "      <td>10</td>\n",
       "      <td>30</td>\n",
       "      <td>1.460938</td>\n",
       "      <td>64</td>\n",
       "    </tr>\n",
       "    <tr>\n",
       "      <th>30</th>\n",
       "      <td>Sharron</td>\n",
       "      <td>Claibourn</td>\n",
       "      <td>Female</td>\n",
       "      <td>62</td>\n",
       "      <td>1980-01-26</td>\n",
       "      <td>NaN</td>\n",
       "      <td>Financial Services</td>\n",
       "      <td>High Net Worth</td>\n",
       "      <td>N</td>\n",
       "      <td>Yes</td>\n",
       "      <td>17</td>\n",
       "      <td>555 Hermina Avenue</td>\n",
       "      <td>2280</td>\n",
       "      <td>NSW</td>\n",
       "      <td>Australia</td>\n",
       "      <td>8</td>\n",
       "      <td>30</td>\n",
       "      <td>1.460938</td>\n",
       "      <td>45</td>\n",
       "    </tr>\n",
       "    <tr>\n",
       "      <th>37</th>\n",
       "      <td>Mitchell</td>\n",
       "      <td>MacCague</td>\n",
       "      <td>Male</td>\n",
       "      <td>58</td>\n",
       "      <td>1979-04-11</td>\n",
       "      <td>NaN</td>\n",
       "      <td>Manufacturing</td>\n",
       "      <td>Mass Customer</td>\n",
       "      <td>N</td>\n",
       "      <td>No</td>\n",
       "      <td>15</td>\n",
       "      <td>240 Acker Avenue</td>\n",
       "      <td>3190</td>\n",
       "      <td>VIC</td>\n",
       "      <td>Australia</td>\n",
       "      <td>8</td>\n",
       "      <td>38</td>\n",
       "      <td>1.437500</td>\n",
       "      <td>46</td>\n",
       "    </tr>\n",
       "    <tr>\n",
       "      <th>...</th>\n",
       "      <td>...</td>\n",
       "      <td>...</td>\n",
       "      <td>...</td>\n",
       "      <td>...</td>\n",
       "      <td>...</td>\n",
       "      <td>...</td>\n",
       "      <td>...</td>\n",
       "      <td>...</td>\n",
       "      <td>...</td>\n",
       "      <td>...</td>\n",
       "      <td>...</td>\n",
       "      <td>...</td>\n",
       "      <td>...</td>\n",
       "      <td>...</td>\n",
       "      <td>...</td>\n",
       "      <td>...</td>\n",
       "      <td>...</td>\n",
       "      <td>...</td>\n",
       "      <td>...</td>\n",
       "    </tr>\n",
       "    <tr>\n",
       "      <th>952</th>\n",
       "      <td>Candy</td>\n",
       "      <td>None</td>\n",
       "      <td>Female</td>\n",
       "      <td>23</td>\n",
       "      <td>1977-12-08</td>\n",
       "      <td>NaN</td>\n",
       "      <td>Financial Services</td>\n",
       "      <td>Mass Customer</td>\n",
       "      <td>N</td>\n",
       "      <td>No</td>\n",
       "      <td>6</td>\n",
       "      <td>59252 Maryland Drive</td>\n",
       "      <td>3500</td>\n",
       "      <td>VIC</td>\n",
       "      <td>Australia</td>\n",
       "      <td>3</td>\n",
       "      <td>951</td>\n",
       "      <td>0.450500</td>\n",
       "      <td>47</td>\n",
       "    </tr>\n",
       "    <tr>\n",
       "      <th>953</th>\n",
       "      <td>Noami</td>\n",
       "      <td>Cokly</td>\n",
       "      <td>Female</td>\n",
       "      <td>74</td>\n",
       "      <td>1962-09-17</td>\n",
       "      <td>NaN</td>\n",
       "      <td>Manufacturing</td>\n",
       "      <td>Mass Customer</td>\n",
       "      <td>N</td>\n",
       "      <td>Yes</td>\n",
       "      <td>15</td>\n",
       "      <td>2886 Buena Vista Terrace</td>\n",
       "      <td>2038</td>\n",
       "      <td>NSW</td>\n",
       "      <td>Australia</td>\n",
       "      <td>11</td>\n",
       "      <td>954</td>\n",
       "      <td>0.450000</td>\n",
       "      <td>62</td>\n",
       "    </tr>\n",
       "    <tr>\n",
       "      <th>971</th>\n",
       "      <td>Frieda</td>\n",
       "      <td>Tavinor</td>\n",
       "      <td>Female</td>\n",
       "      <td>43</td>\n",
       "      <td>1999-03-04</td>\n",
       "      <td>NaN</td>\n",
       "      <td>NaN</td>\n",
       "      <td>Affluent Customer</td>\n",
       "      <td>N</td>\n",
       "      <td>No</td>\n",
       "      <td>10</td>\n",
       "      <td>7 Mallory Lane</td>\n",
       "      <td>3064</td>\n",
       "      <td>VIC</td>\n",
       "      <td>Australia</td>\n",
       "      <td>6</td>\n",
       "      <td>972</td>\n",
       "      <td>0.430000</td>\n",
       "      <td>26</td>\n",
       "    </tr>\n",
       "    <tr>\n",
       "      <th>972</th>\n",
       "      <td>Ellwood</td>\n",
       "      <td>Budden</td>\n",
       "      <td>Male</td>\n",
       "      <td>82</td>\n",
       "      <td>1998-06-03</td>\n",
       "      <td>NaN</td>\n",
       "      <td>Health</td>\n",
       "      <td>Mass Customer</td>\n",
       "      <td>N</td>\n",
       "      <td>Yes</td>\n",
       "      <td>11</td>\n",
       "      <td>79907 Randy Center</td>\n",
       "      <td>2192</td>\n",
       "      <td>NSW</td>\n",
       "      <td>Australia</td>\n",
       "      <td>10</td>\n",
       "      <td>972</td>\n",
       "      <td>0.430000</td>\n",
       "      <td>26</td>\n",
       "    </tr>\n",
       "    <tr>\n",
       "      <th>989</th>\n",
       "      <td>Kellen</td>\n",
       "      <td>Pawelski</td>\n",
       "      <td>Female</td>\n",
       "      <td>83</td>\n",
       "      <td>1945-07-26</td>\n",
       "      <td>NaN</td>\n",
       "      <td>Manufacturing</td>\n",
       "      <td>High Net Worth</td>\n",
       "      <td>N</td>\n",
       "      <td>Yes</td>\n",
       "      <td>11</td>\n",
       "      <td>125 Manufacturers Parkway</td>\n",
       "      <td>2193</td>\n",
       "      <td>NSW</td>\n",
       "      <td>Australia</td>\n",
       "      <td>8</td>\n",
       "      <td>988</td>\n",
       "      <td>0.399500</td>\n",
       "      <td>79</td>\n",
       "    </tr>\n",
       "  </tbody>\n",
       "</table>\n",
       "<p>105 rows × 19 columns</p>\n",
       "</div>"
      ],
      "text/plain": [
       "    first_name  last_name  gender  past_3_years_bike_related_purchases  \\\n",
       "15       Dukie      Swire    Male                                   88   \n",
       "25      Rourke   Gillbard    Male                                   11   \n",
       "29       Rhona  De Freyne  Female                                   45   \n",
       "30     Sharron  Claibourn  Female                                   62   \n",
       "37    Mitchell   MacCague    Male                                   58   \n",
       "..         ...        ...     ...                                  ...   \n",
       "952      Candy       None  Female                                   23   \n",
       "953      Noami      Cokly  Female                                   74   \n",
       "971     Frieda    Tavinor  Female                                   43   \n",
       "972    Ellwood     Budden    Male                                   82   \n",
       "989     Kellen   Pawelski  Female                                   83   \n",
       "\n",
       "           DOB job_title job_industry_category     wealth_segment  \\\n",
       "15  1954-03-31       NaN         Manufacturing  Affluent Customer   \n",
       "25  1945-08-03       NaN              Property      Mass Customer   \n",
       "29  1960-11-22       NaN                Health     High Net Worth   \n",
       "30  1980-01-26       NaN    Financial Services     High Net Worth   \n",
       "37  1979-04-11       NaN         Manufacturing      Mass Customer   \n",
       "..         ...       ...                   ...                ...   \n",
       "952 1977-12-08       NaN    Financial Services      Mass Customer   \n",
       "953 1962-09-17       NaN         Manufacturing      Mass Customer   \n",
       "971 1999-03-04       NaN                   NaN  Affluent Customer   \n",
       "972 1998-06-03       NaN                Health      Mass Customer   \n",
       "989 1945-07-26       NaN         Manufacturing     High Net Worth   \n",
       "\n",
       "    deceased_indicator owns_car  tenure                    address  postcode  \\\n",
       "15                   N      Yes       5          64 Granby Parkway      2500   \n",
       "25                   N       No      17          75 Cordelia Trail      4817   \n",
       "29                   N       No       8           11184 East Drive      3056   \n",
       "30                   N      Yes      17         555 Hermina Avenue      2280   \n",
       "37                   N       No      15           240 Acker Avenue      3190   \n",
       "..                 ...      ...     ...                        ...       ...   \n",
       "952                  N       No       6       59252 Maryland Drive      3500   \n",
       "953                  N      Yes      15   2886 Buena Vista Terrace      2038   \n",
       "971                  N       No      10             7 Mallory Lane      3064   \n",
       "972                  N      Yes      11         79907 Randy Center      2192   \n",
       "989                  N      Yes      11  125 Manufacturers Parkway      2193   \n",
       "\n",
       "    state    country  property_valuation  Rank     Value  Age  \n",
       "15    NSW  Australia                   8    16  1.562500   71  \n",
       "25    QLD  Australia                   4    26  1.468750   79  \n",
       "29    VIC  Australia                  10    30  1.460938   64  \n",
       "30    NSW  Australia                   8    30  1.460938   45  \n",
       "37    VIC  Australia                   8    38  1.437500   46  \n",
       "..    ...        ...                 ...   ...       ...  ...  \n",
       "952   VIC  Australia                   3   951  0.450500   47  \n",
       "953   NSW  Australia                  11   954  0.450000   62  \n",
       "971   VIC  Australia                   6   972  0.430000   26  \n",
       "972   NSW  Australia                  10   972  0.430000   26  \n",
       "989   NSW  Australia                   8   988  0.399500   79  \n",
       "\n",
       "[105 rows x 19 columns]"
      ]
     },
     "execution_count": 28,
     "metadata": {},
     "output_type": "execute_result"
    }
   ],
   "source": [
    "new_cust[new_cust['job_title'].isnull()]"
   ]
  },
  {
   "cell_type": "markdown",
   "id": "005ed505-4f04-42c7-8d88-75acf712126c",
   "metadata": {},
   "source": [
    "- We will replace null values with Missing."
   ]
  },
  {
   "cell_type": "code",
   "execution_count": 29,
   "id": "d70c285f-3782-4607-8eaf-39581bf8826f",
   "metadata": {},
   "outputs": [
    {
     "name": "stderr",
     "output_type": "stream",
     "text": [
      "C:\\Users\\srivastavash\\AppData\\Local\\Temp\\ipykernel_352\\1185744126.py:1: FutureWarning: A value is trying to be set on a copy of a DataFrame or Series through chained assignment using an inplace method.\n",
      "The behavior will change in pandas 3.0. This inplace method will never work because the intermediate object on which we are setting values always behaves as a copy.\n",
      "\n",
      "For example, when doing 'df[col].method(value, inplace=True)', try using 'df.method({col: value}, inplace=True)' or df[col] = df[col].method(value) instead, to perform the operation inplace on the original object.\n",
      "\n",
      "\n",
      "  new_cust['job_title'].fillna('Missing', inplace=True, axis=0)\n"
     ]
    }
   ],
   "source": [
    "new_cust['job_title'].fillna('Missing', inplace=True, axis=0)"
   ]
  },
  {
   "cell_type": "code",
   "execution_count": 30,
   "id": "a6050e26-2794-45fd-908f-7f4405eb7965",
   "metadata": {},
   "outputs": [
    {
     "data": {
      "text/plain": [
       "0"
      ]
     },
     "execution_count": 30,
     "metadata": {},
     "output_type": "execute_result"
    }
   ],
   "source": [
    "new_cust['job_title'].isnull().sum()"
   ]
  },
  {
   "cell_type": "markdown",
   "id": "6185bc7b-fb76-4728-98ce-023e049c078f",
   "metadata": {},
   "source": [
    "# Job Industry Category"
   ]
  },
  {
   "cell_type": "code",
   "execution_count": 31,
   "id": "c4dcb616-80cd-461e-b73f-cc98f654f2a6",
   "metadata": {},
   "outputs": [
    {
     "data": {
      "text/html": [
       "<div>\n",
       "<style scoped>\n",
       "    .dataframe tbody tr th:only-of-type {\n",
       "        vertical-align: middle;\n",
       "    }\n",
       "\n",
       "    .dataframe tbody tr th {\n",
       "        vertical-align: top;\n",
       "    }\n",
       "\n",
       "    .dataframe thead th {\n",
       "        text-align: right;\n",
       "    }\n",
       "</style>\n",
       "<table border=\"1\" class=\"dataframe\">\n",
       "  <thead>\n",
       "    <tr style=\"text-align: right;\">\n",
       "      <th></th>\n",
       "      <th>first_name</th>\n",
       "      <th>last_name</th>\n",
       "      <th>gender</th>\n",
       "      <th>past_3_years_bike_related_purchases</th>\n",
       "      <th>DOB</th>\n",
       "      <th>job_title</th>\n",
       "      <th>job_industry_category</th>\n",
       "      <th>wealth_segment</th>\n",
       "      <th>deceased_indicator</th>\n",
       "      <th>owns_car</th>\n",
       "      <th>tenure</th>\n",
       "      <th>address</th>\n",
       "      <th>postcode</th>\n",
       "      <th>state</th>\n",
       "      <th>country</th>\n",
       "      <th>property_valuation</th>\n",
       "      <th>Rank</th>\n",
       "      <th>Value</th>\n",
       "      <th>Age</th>\n",
       "    </tr>\n",
       "  </thead>\n",
       "  <tbody>\n",
       "    <tr>\n",
       "      <th>22</th>\n",
       "      <td>Otis</td>\n",
       "      <td>Ottey</td>\n",
       "      <td>Male</td>\n",
       "      <td>26</td>\n",
       "      <td>1998-02-05</td>\n",
       "      <td>Quality Engineer</td>\n",
       "      <td>NaN</td>\n",
       "      <td>Mass Customer</td>\n",
       "      <td>N</td>\n",
       "      <td>No</td>\n",
       "      <td>3</td>\n",
       "      <td>1562 Merchant Street</td>\n",
       "      <td>4744</td>\n",
       "      <td>QLD</td>\n",
       "      <td>Australia</td>\n",
       "      <td>4</td>\n",
       "      <td>23</td>\n",
       "      <td>1.500000</td>\n",
       "      <td>27</td>\n",
       "    </tr>\n",
       "    <tr>\n",
       "      <th>23</th>\n",
       "      <td>Tabbatha</td>\n",
       "      <td>Averill</td>\n",
       "      <td>Female</td>\n",
       "      <td>5</td>\n",
       "      <td>1977-12-17</td>\n",
       "      <td>Quality Control Specialist</td>\n",
       "      <td>NaN</td>\n",
       "      <td>Affluent Customer</td>\n",
       "      <td>N</td>\n",
       "      <td>Yes</td>\n",
       "      <td>13</td>\n",
       "      <td>663 8th Parkway</td>\n",
       "      <td>2257</td>\n",
       "      <td>NSW</td>\n",
       "      <td>Australia</td>\n",
       "      <td>8</td>\n",
       "      <td>23</td>\n",
       "      <td>1.500000</td>\n",
       "      <td>47</td>\n",
       "    </tr>\n",
       "    <tr>\n",
       "      <th>33</th>\n",
       "      <td>Mikel</td>\n",
       "      <td>McNess</td>\n",
       "      <td>Male</td>\n",
       "      <td>71</td>\n",
       "      <td>1981-09-22</td>\n",
       "      <td>Nurse</td>\n",
       "      <td>NaN</td>\n",
       "      <td>Mass Customer</td>\n",
       "      <td>N</td>\n",
       "      <td>No</td>\n",
       "      <td>9</td>\n",
       "      <td>3 Pleasure Drive</td>\n",
       "      <td>4122</td>\n",
       "      <td>QLD</td>\n",
       "      <td>Australia</td>\n",
       "      <td>9</td>\n",
       "      <td>32</td>\n",
       "      <td>1.453125</td>\n",
       "      <td>43</td>\n",
       "    </tr>\n",
       "    <tr>\n",
       "      <th>36</th>\n",
       "      <td>Farlie</td>\n",
       "      <td>Petford</td>\n",
       "      <td>Male</td>\n",
       "      <td>76</td>\n",
       "      <td>1968-03-25</td>\n",
       "      <td>Recruiting Manager</td>\n",
       "      <td>NaN</td>\n",
       "      <td>High Net Worth</td>\n",
       "      <td>N</td>\n",
       "      <td>No</td>\n",
       "      <td>13</td>\n",
       "      <td>2330 Butternut Trail</td>\n",
       "      <td>2017</td>\n",
       "      <td>NSW</td>\n",
       "      <td>Australia</td>\n",
       "      <td>10</td>\n",
       "      <td>36</td>\n",
       "      <td>1.447656</td>\n",
       "      <td>57</td>\n",
       "    </tr>\n",
       "    <tr>\n",
       "      <th>43</th>\n",
       "      <td>Corinna</td>\n",
       "      <td>Suggey</td>\n",
       "      <td>Female</td>\n",
       "      <td>52</td>\n",
       "      <td>1966-09-18</td>\n",
       "      <td>Design Engineer</td>\n",
       "      <td>NaN</td>\n",
       "      <td>Affluent Customer</td>\n",
       "      <td>N</td>\n",
       "      <td>No</td>\n",
       "      <td>9</td>\n",
       "      <td>938 Ilene Road</td>\n",
       "      <td>2761</td>\n",
       "      <td>NSW</td>\n",
       "      <td>Australia</td>\n",
       "      <td>8</td>\n",
       "      <td>44</td>\n",
       "      <td>1.421094</td>\n",
       "      <td>58</td>\n",
       "    </tr>\n",
       "    <tr>\n",
       "      <th>...</th>\n",
       "      <td>...</td>\n",
       "      <td>...</td>\n",
       "      <td>...</td>\n",
       "      <td>...</td>\n",
       "      <td>...</td>\n",
       "      <td>...</td>\n",
       "      <td>...</td>\n",
       "      <td>...</td>\n",
       "      <td>...</td>\n",
       "      <td>...</td>\n",
       "      <td>...</td>\n",
       "      <td>...</td>\n",
       "      <td>...</td>\n",
       "      <td>...</td>\n",
       "      <td>...</td>\n",
       "      <td>...</td>\n",
       "      <td>...</td>\n",
       "      <td>...</td>\n",
       "      <td>...</td>\n",
       "    </tr>\n",
       "    <tr>\n",
       "      <th>959</th>\n",
       "      <td>Blondell</td>\n",
       "      <td>Dibdall</td>\n",
       "      <td>Female</td>\n",
       "      <td>62</td>\n",
       "      <td>1967-01-03</td>\n",
       "      <td>Programmer III</td>\n",
       "      <td>NaN</td>\n",
       "      <td>Mass Customer</td>\n",
       "      <td>N</td>\n",
       "      <td>No</td>\n",
       "      <td>4</td>\n",
       "      <td>34 Bunting Pass</td>\n",
       "      <td>3048</td>\n",
       "      <td>VIC</td>\n",
       "      <td>Australia</td>\n",
       "      <td>4</td>\n",
       "      <td>960</td>\n",
       "      <td>0.442000</td>\n",
       "      <td>58</td>\n",
       "    </tr>\n",
       "    <tr>\n",
       "      <th>971</th>\n",
       "      <td>Frieda</td>\n",
       "      <td>Tavinor</td>\n",
       "      <td>Female</td>\n",
       "      <td>43</td>\n",
       "      <td>1999-03-04</td>\n",
       "      <td>Missing</td>\n",
       "      <td>NaN</td>\n",
       "      <td>Affluent Customer</td>\n",
       "      <td>N</td>\n",
       "      <td>No</td>\n",
       "      <td>10</td>\n",
       "      <td>7 Mallory Lane</td>\n",
       "      <td>3064</td>\n",
       "      <td>VIC</td>\n",
       "      <td>Australia</td>\n",
       "      <td>6</td>\n",
       "      <td>972</td>\n",
       "      <td>0.430000</td>\n",
       "      <td>26</td>\n",
       "    </tr>\n",
       "    <tr>\n",
       "      <th>975</th>\n",
       "      <td>Amby</td>\n",
       "      <td>Bodega</td>\n",
       "      <td>Male</td>\n",
       "      <td>63</td>\n",
       "      <td>1968-06-12</td>\n",
       "      <td>Recruiter</td>\n",
       "      <td>NaN</td>\n",
       "      <td>Affluent Customer</td>\n",
       "      <td>N</td>\n",
       "      <td>Yes</td>\n",
       "      <td>17</td>\n",
       "      <td>669 Declaration Street</td>\n",
       "      <td>3810</td>\n",
       "      <td>VIC</td>\n",
       "      <td>Australia</td>\n",
       "      <td>6</td>\n",
       "      <td>974</td>\n",
       "      <td>0.425000</td>\n",
       "      <td>56</td>\n",
       "    </tr>\n",
       "    <tr>\n",
       "      <th>980</th>\n",
       "      <td>Tyne</td>\n",
       "      <td>Anshell</td>\n",
       "      <td>Female</td>\n",
       "      <td>71</td>\n",
       "      <td>1992-04-08</td>\n",
       "      <td>Mechanical Systems Engineer</td>\n",
       "      <td>NaN</td>\n",
       "      <td>Mass Customer</td>\n",
       "      <td>N</td>\n",
       "      <td>Yes</td>\n",
       "      <td>3</td>\n",
       "      <td>93 Sutherland Terrace</td>\n",
       "      <td>2560</td>\n",
       "      <td>NSW</td>\n",
       "      <td>Australia</td>\n",
       "      <td>8</td>\n",
       "      <td>979</td>\n",
       "      <td>0.416500</td>\n",
       "      <td>33</td>\n",
       "    </tr>\n",
       "    <tr>\n",
       "      <th>983</th>\n",
       "      <td>Augusta</td>\n",
       "      <td>Munns</td>\n",
       "      <td>Female</td>\n",
       "      <td>5</td>\n",
       "      <td>1951-09-17</td>\n",
       "      <td>Quality Control Specialist</td>\n",
       "      <td>NaN</td>\n",
       "      <td>Mass Customer</td>\n",
       "      <td>N</td>\n",
       "      <td>No</td>\n",
       "      <td>21</td>\n",
       "      <td>607 Memorial Avenue</td>\n",
       "      <td>2074</td>\n",
       "      <td>NSW</td>\n",
       "      <td>Australia</td>\n",
       "      <td>11</td>\n",
       "      <td>983</td>\n",
       "      <td>0.410000</td>\n",
       "      <td>73</td>\n",
       "    </tr>\n",
       "  </tbody>\n",
       "</table>\n",
       "<p>165 rows × 19 columns</p>\n",
       "</div>"
      ],
      "text/plain": [
       "    first_name last_name  gender  past_3_years_bike_related_purchases  \\\n",
       "22        Otis     Ottey    Male                                   26   \n",
       "23    Tabbatha   Averill  Female                                    5   \n",
       "33       Mikel    McNess    Male                                   71   \n",
       "36      Farlie   Petford    Male                                   76   \n",
       "43     Corinna    Suggey  Female                                   52   \n",
       "..         ...       ...     ...                                  ...   \n",
       "959   Blondell   Dibdall  Female                                   62   \n",
       "971     Frieda   Tavinor  Female                                   43   \n",
       "975       Amby    Bodega    Male                                   63   \n",
       "980       Tyne   Anshell  Female                                   71   \n",
       "983    Augusta     Munns  Female                                    5   \n",
       "\n",
       "           DOB                    job_title job_industry_category  \\\n",
       "22  1998-02-05             Quality Engineer                   NaN   \n",
       "23  1977-12-17   Quality Control Specialist                   NaN   \n",
       "33  1981-09-22                        Nurse                   NaN   \n",
       "36  1968-03-25           Recruiting Manager                   NaN   \n",
       "43  1966-09-18              Design Engineer                   NaN   \n",
       "..         ...                          ...                   ...   \n",
       "959 1967-01-03               Programmer III                   NaN   \n",
       "971 1999-03-04                      Missing                   NaN   \n",
       "975 1968-06-12                    Recruiter                   NaN   \n",
       "980 1992-04-08  Mechanical Systems Engineer                   NaN   \n",
       "983 1951-09-17   Quality Control Specialist                   NaN   \n",
       "\n",
       "        wealth_segment deceased_indicator owns_car  tenure  \\\n",
       "22       Mass Customer                  N       No       3   \n",
       "23   Affluent Customer                  N      Yes      13   \n",
       "33       Mass Customer                  N       No       9   \n",
       "36      High Net Worth                  N       No      13   \n",
       "43   Affluent Customer                  N       No       9   \n",
       "..                 ...                ...      ...     ...   \n",
       "959      Mass Customer                  N       No       4   \n",
       "971  Affluent Customer                  N       No      10   \n",
       "975  Affluent Customer                  N      Yes      17   \n",
       "980      Mass Customer                  N      Yes       3   \n",
       "983      Mass Customer                  N       No      21   \n",
       "\n",
       "                    address  postcode state    country  property_valuation  \\\n",
       "22     1562 Merchant Street      4744   QLD  Australia                   4   \n",
       "23          663 8th Parkway      2257   NSW  Australia                   8   \n",
       "33         3 Pleasure Drive      4122   QLD  Australia                   9   \n",
       "36     2330 Butternut Trail      2017   NSW  Australia                  10   \n",
       "43           938 Ilene Road      2761   NSW  Australia                   8   \n",
       "..                      ...       ...   ...        ...                 ...   \n",
       "959         34 Bunting Pass      3048   VIC  Australia                   4   \n",
       "971          7 Mallory Lane      3064   VIC  Australia                   6   \n",
       "975  669 Declaration Street      3810   VIC  Australia                   6   \n",
       "980   93 Sutherland Terrace      2560   NSW  Australia                   8   \n",
       "983     607 Memorial Avenue      2074   NSW  Australia                  11   \n",
       "\n",
       "     Rank     Value  Age  \n",
       "22     23  1.500000   27  \n",
       "23     23  1.500000   47  \n",
       "33     32  1.453125   43  \n",
       "36     36  1.447656   57  \n",
       "43     44  1.421094   58  \n",
       "..    ...       ...  ...  \n",
       "959   960  0.442000   58  \n",
       "971   972  0.430000   26  \n",
       "975   974  0.425000   56  \n",
       "980   979  0.416500   33  \n",
       "983   983  0.410000   73  \n",
       "\n",
       "[165 rows x 19 columns]"
      ]
     },
     "execution_count": 31,
     "metadata": {},
     "output_type": "execute_result"
    }
   ],
   "source": [
    "new_cust[new_cust['job_industry_category'].isnull()]"
   ]
  },
  {
   "cell_type": "markdown",
   "id": "80dadec6-bab0-45d6-a343-66bab2242126",
   "metadata": {},
   "source": [
    "-  We will replace null values with Missing."
   ]
  },
  {
   "cell_type": "code",
   "execution_count": 32,
   "id": "d8549105-46fb-4d2c-b38a-fc80e0154689",
   "metadata": {},
   "outputs": [
    {
     "name": "stderr",
     "output_type": "stream",
     "text": [
      "C:\\Users\\srivastavash\\AppData\\Local\\Temp\\ipykernel_352\\485180278.py:1: FutureWarning: A value is trying to be set on a copy of a DataFrame or Series through chained assignment using an inplace method.\n",
      "The behavior will change in pandas 3.0. This inplace method will never work because the intermediate object on which we are setting values always behaves as a copy.\n",
      "\n",
      "For example, when doing 'df[col].method(value, inplace=True)', try using 'df.method({col: value}, inplace=True)' or df[col] = df[col].method(value) instead, to perform the operation inplace on the original object.\n",
      "\n",
      "\n",
      "  new_cust['job_industry_category'].fillna('Missing', inplace=True, axis=0)\n"
     ]
    }
   ],
   "source": [
    "new_cust['job_industry_category'].fillna('Missing', inplace=True, axis=0)"
   ]
  },
  {
   "cell_type": "code",
   "execution_count": 33,
   "id": "593b69fc-d6a1-4146-9e78-b183852346e4",
   "metadata": {},
   "outputs": [
    {
     "data": {
      "text/plain": [
       "0"
      ]
     },
     "execution_count": 33,
     "metadata": {},
     "output_type": "execute_result"
    }
   ],
   "source": [
    "new_cust['job_industry_category'].isnull().sum()"
   ]
  },
  {
   "cell_type": "markdown",
   "id": "bb8008fe-6d33-480d-98ea-2df91dc9ac23",
   "metadata": {},
   "source": [
    "# Final Check for missing values"
   ]
  },
  {
   "cell_type": "code",
   "execution_count": 34,
   "id": "9a8b5599-1af0-48ff-a3a8-bb0fa8cf381e",
   "metadata": {},
   "outputs": [
    {
     "data": {
      "text/plain": [
       "first_name                             0\n",
       "last_name                              0\n",
       "gender                                 0\n",
       "past_3_years_bike_related_purchases    0\n",
       "DOB                                    0\n",
       "job_title                              0\n",
       "job_industry_category                  0\n",
       "wealth_segment                         0\n",
       "deceased_indicator                     0\n",
       "owns_car                               0\n",
       "tenure                                 0\n",
       "address                                0\n",
       "postcode                               0\n",
       "state                                  0\n",
       "country                                0\n",
       "property_valuation                     0\n",
       "Rank                                   0\n",
       "Value                                  0\n",
       "Age                                    0\n",
       "dtype: int64"
      ]
     },
     "execution_count": 34,
     "metadata": {},
     "output_type": "execute_result"
    }
   ],
   "source": [
    "new_cust.isnull().sum()"
   ]
  },
  {
   "cell_type": "markdown",
   "id": "844d64c1-a6a5-4714-a87d-d210be076fe2",
   "metadata": {},
   "source": [
    "# Inconsistency Check in Data"
   ]
  },
  {
   "cell_type": "markdown",
   "id": "b9a9ca70-8efe-4b16-82ba-bc4a89bb4910",
   "metadata": {},
   "source": [
    "# Gender"
   ]
  },
  {
   "cell_type": "code",
   "execution_count": 35,
   "id": "a012ae7e-e710-450a-9427-8e7f9133f6f4",
   "metadata": {},
   "outputs": [
    {
     "data": {
      "text/plain": [
       "gender\n",
       "Female    513\n",
       "Male      470\n",
       "Name: count, dtype: int64"
      ]
     },
     "execution_count": 35,
     "metadata": {},
     "output_type": "execute_result"
    }
   ],
   "source": [
    "new_cust['gender'].value_counts()"
   ]
  },
  {
   "cell_type": "markdown",
   "id": "f74d5b2f-2dd5-4fef-a0f8-101078a8a49f",
   "metadata": {},
   "source": [
    "- No inconsistancy"
   ]
  },
  {
   "cell_type": "markdown",
   "id": "3b548e20-cc40-4ae3-963b-709bcfa8084f",
   "metadata": {},
   "source": [
    "# Wealth Segment"
   ]
  },
  {
   "cell_type": "code",
   "execution_count": 36,
   "id": "fd415541-7c4c-4d65-92bc-9128fd6c1b21",
   "metadata": {},
   "outputs": [
    {
     "data": {
      "text/plain": [
       "wealth_segment\n",
       "Mass Customer        499\n",
       "High Net Worth       249\n",
       "Affluent Customer    235\n",
       "Name: count, dtype: int64"
      ]
     },
     "execution_count": 36,
     "metadata": {},
     "output_type": "execute_result"
    }
   ],
   "source": [
    "new_cust['wealth_segment'].value_counts()"
   ]
  },
  {
   "cell_type": "markdown",
   "id": "fbf1bcfa-9832-4091-a2b1-0418b37937d9",
   "metadata": {},
   "source": [
    "- No inconsistancy"
   ]
  },
  {
   "cell_type": "markdown",
   "id": "8692de3f-b01e-4425-988d-0e3dc6f64840",
   "metadata": {},
   "source": [
    "# Deceased Indicator"
   ]
  },
  {
   "cell_type": "code",
   "execution_count": 37,
   "id": "27792f38-4d55-4eda-8b9c-b76dcb9cd8f5",
   "metadata": {},
   "outputs": [
    {
     "data": {
      "text/plain": [
       "deceased_indicator\n",
       "N    983\n",
       "Name: count, dtype: int64"
      ]
     },
     "execution_count": 37,
     "metadata": {},
     "output_type": "execute_result"
    }
   ],
   "source": [
    "new_cust['deceased_indicator'].value_counts()"
   ]
  },
  {
   "cell_type": "markdown",
   "id": "59db5fb3-bef7-4acc-80c7-853247ab34ca",
   "metadata": {},
   "source": [
    "- No inconsistancy"
   ]
  },
  {
   "cell_type": "markdown",
   "id": "78b7bb41-6b1d-49d0-8edb-05dbc481f2f5",
   "metadata": {},
   "source": [
    "# Owns a Car"
   ]
  },
  {
   "cell_type": "code",
   "execution_count": 38,
   "id": "a9e7cf98-493f-4465-8864-bd389929e4e5",
   "metadata": {},
   "outputs": [
    {
     "data": {
      "text/plain": [
       "owns_car\n",
       "No     497\n",
       "Yes    486\n",
       "Name: count, dtype: int64"
      ]
     },
     "execution_count": 38,
     "metadata": {},
     "output_type": "execute_result"
    }
   ],
   "source": [
    "new_cust['owns_car'].value_counts()"
   ]
  },
  {
   "cell_type": "markdown",
   "id": "8fe16a29-60b6-4ea5-941e-7c409a55666d",
   "metadata": {},
   "source": [
    "- No inconsistancy"
   ]
  },
  {
   "cell_type": "markdown",
   "id": "d61451fa-aaf4-4b08-acc5-5cc373c68fb7",
   "metadata": {},
   "source": [
    "# State"
   ]
  },
  {
   "cell_type": "code",
   "execution_count": 39,
   "id": "77612522-7563-4b07-b9d4-eadc96dfd615",
   "metadata": {},
   "outputs": [
    {
     "data": {
      "text/plain": [
       "state\n",
       "NSW    499\n",
       "VIC    258\n",
       "QLD    226\n",
       "Name: count, dtype: int64"
      ]
     },
     "execution_count": 39,
     "metadata": {},
     "output_type": "execute_result"
    }
   ],
   "source": [
    "new_cust['state'].value_counts()"
   ]
  },
  {
   "cell_type": "markdown",
   "id": "b238e6c8-1644-47bf-9a59-e5032e257216",
   "metadata": {},
   "source": [
    "- No inconsistancy"
   ]
  },
  {
   "cell_type": "markdown",
   "id": "f58dd951-03b1-4820-bbf8-5bb9bbe7c688",
   "metadata": {},
   "source": [
    "# Country "
   ]
  },
  {
   "cell_type": "code",
   "execution_count": 41,
   "id": "64bc2182-50aa-468f-abe4-1e8759459e4e",
   "metadata": {},
   "outputs": [
    {
     "data": {
      "text/plain": [
       "country\n",
       "Australia    983\n",
       "Name: count, dtype: int64"
      ]
     },
     "execution_count": 41,
     "metadata": {},
     "output_type": "execute_result"
    }
   ],
   "source": [
    "new_cust['country'].value_counts()"
   ]
  },
  {
   "cell_type": "markdown",
   "id": "a67b8544-8e65-4131-b1f0-45fab49cbd10",
   "metadata": {},
   "source": [
    "- No inconsistancy"
   ]
  },
  {
   "cell_type": "markdown",
   "id": "ee58ce67-7380-4525-9f14-f2dbcb4a90ae",
   "metadata": {},
   "source": [
    "# Postcode"
   ]
  },
  {
   "cell_type": "code",
   "execution_count": 43,
   "id": "7ac5edfc-6781-452c-a541-8cee234c199d",
   "metadata": {},
   "outputs": [
    {
     "data": {
      "text/html": [
       "<div>\n",
       "<style scoped>\n",
       "    .dataframe tbody tr th:only-of-type {\n",
       "        vertical-align: middle;\n",
       "    }\n",
       "\n",
       "    .dataframe tbody tr th {\n",
       "        vertical-align: top;\n",
       "    }\n",
       "\n",
       "    .dataframe thead th {\n",
       "        text-align: right;\n",
       "    }\n",
       "</style>\n",
       "<table border=\"1\" class=\"dataframe\">\n",
       "  <thead>\n",
       "    <tr style=\"text-align: right;\">\n",
       "      <th></th>\n",
       "      <th>postcode</th>\n",
       "      <th>state</th>\n",
       "    </tr>\n",
       "  </thead>\n",
       "  <tbody>\n",
       "    <tr>\n",
       "      <th>164</th>\n",
       "      <td>2073</td>\n",
       "      <td>NSW</td>\n",
       "    </tr>\n",
       "    <tr>\n",
       "      <th>202</th>\n",
       "      <td>2300</td>\n",
       "      <td>NSW</td>\n",
       "    </tr>\n",
       "    <tr>\n",
       "      <th>616</th>\n",
       "      <td>2049</td>\n",
       "      <td>NSW</td>\n",
       "    </tr>\n",
       "    <tr>\n",
       "      <th>204</th>\n",
       "      <td>2429</td>\n",
       "      <td>NSW</td>\n",
       "    </tr>\n",
       "    <tr>\n",
       "      <th>615</th>\n",
       "      <td>2070</td>\n",
       "      <td>NSW</td>\n",
       "    </tr>\n",
       "    <tr>\n",
       "      <th>...</th>\n",
       "      <td>...</td>\n",
       "      <td>...</td>\n",
       "    </tr>\n",
       "    <tr>\n",
       "      <th>234</th>\n",
       "      <td>3429</td>\n",
       "      <td>VIC</td>\n",
       "    </tr>\n",
       "    <tr>\n",
       "      <th>589</th>\n",
       "      <td>3037</td>\n",
       "      <td>VIC</td>\n",
       "    </tr>\n",
       "    <tr>\n",
       "      <th>604</th>\n",
       "      <td>3129</td>\n",
       "      <td>VIC</td>\n",
       "    </tr>\n",
       "    <tr>\n",
       "      <th>245</th>\n",
       "      <td>3134</td>\n",
       "      <td>VIC</td>\n",
       "    </tr>\n",
       "    <tr>\n",
       "      <th>341</th>\n",
       "      <td>3163</td>\n",
       "      <td>VIC</td>\n",
       "    </tr>\n",
       "  </tbody>\n",
       "</table>\n",
       "<p>515 rows × 2 columns</p>\n",
       "</div>"
      ],
      "text/plain": [
       "     postcode state\n",
       "164      2073   NSW\n",
       "202      2300   NSW\n",
       "616      2049   NSW\n",
       "204      2429   NSW\n",
       "615      2070   NSW\n",
       "..        ...   ...\n",
       "234      3429   VIC\n",
       "589      3037   VIC\n",
       "604      3129   VIC\n",
       "245      3134   VIC\n",
       "341      3163   VIC\n",
       "\n",
       "[515 rows x 2 columns]"
      ]
     },
     "execution_count": 43,
     "metadata": {},
     "output_type": "execute_result"
    }
   ],
   "source": [
    "new_cust[['postcode','state']].drop_duplicates().sort_values('state')"
   ]
  },
  {
   "cell_type": "markdown",
   "id": "049fe2ab-ebb1-47e9-bc51-099c695ac756",
   "metadata": {},
   "source": [
    "# Address"
   ]
  },
  {
   "cell_type": "markdown",
   "id": "64490f6e-2547-491e-9802-cec65ee2f9f7",
   "metadata": {},
   "source": [
    "- Dropping duplicate rows"
   ]
  },
  {
   "cell_type": "code",
   "execution_count": 44,
   "id": "a4eec795-95e1-40f9-94af-1ab67c9f5f40",
   "metadata": {},
   "outputs": [
    {
     "data": {
      "text/html": [
       "<div>\n",
       "<style scoped>\n",
       "    .dataframe tbody tr th:only-of-type {\n",
       "        vertical-align: middle;\n",
       "    }\n",
       "\n",
       "    .dataframe tbody tr th {\n",
       "        vertical-align: top;\n",
       "    }\n",
       "\n",
       "    .dataframe thead th {\n",
       "        text-align: right;\n",
       "    }\n",
       "</style>\n",
       "<table border=\"1\" class=\"dataframe\">\n",
       "  <thead>\n",
       "    <tr style=\"text-align: right;\">\n",
       "      <th></th>\n",
       "      <th>address</th>\n",
       "      <th>postcode</th>\n",
       "      <th>state</th>\n",
       "      <th>country</th>\n",
       "    </tr>\n",
       "  </thead>\n",
       "  <tbody>\n",
       "    <tr>\n",
       "      <th>0</th>\n",
       "      <td>45 Shopko Center</td>\n",
       "      <td>4500</td>\n",
       "      <td>QLD</td>\n",
       "      <td>Australia</td>\n",
       "    </tr>\n",
       "    <tr>\n",
       "      <th>1</th>\n",
       "      <td>14 Mccormick Park</td>\n",
       "      <td>2113</td>\n",
       "      <td>NSW</td>\n",
       "      <td>Australia</td>\n",
       "    </tr>\n",
       "    <tr>\n",
       "      <th>2</th>\n",
       "      <td>5 Colorado Crossing</td>\n",
       "      <td>3505</td>\n",
       "      <td>VIC</td>\n",
       "      <td>Australia</td>\n",
       "    </tr>\n",
       "    <tr>\n",
       "      <th>3</th>\n",
       "      <td>207 Annamark Plaza</td>\n",
       "      <td>4814</td>\n",
       "      <td>QLD</td>\n",
       "      <td>Australia</td>\n",
       "    </tr>\n",
       "    <tr>\n",
       "      <th>4</th>\n",
       "      <td>115 Montana Place</td>\n",
       "      <td>2093</td>\n",
       "      <td>NSW</td>\n",
       "      <td>Australia</td>\n",
       "    </tr>\n",
       "    <tr>\n",
       "      <th>...</th>\n",
       "      <td>...</td>\n",
       "      <td>...</td>\n",
       "      <td>...</td>\n",
       "      <td>...</td>\n",
       "    </tr>\n",
       "    <tr>\n",
       "      <th>995</th>\n",
       "      <td>2 Sloan Way</td>\n",
       "      <td>2200</td>\n",
       "      <td>NSW</td>\n",
       "      <td>Australia</td>\n",
       "    </tr>\n",
       "    <tr>\n",
       "      <th>996</th>\n",
       "      <td>04 Union Crossing</td>\n",
       "      <td>2196</td>\n",
       "      <td>NSW</td>\n",
       "      <td>Australia</td>\n",
       "    </tr>\n",
       "    <tr>\n",
       "      <th>997</th>\n",
       "      <td>33475 Fair Oaks Junction</td>\n",
       "      <td>4702</td>\n",
       "      <td>QLD</td>\n",
       "      <td>Australia</td>\n",
       "    </tr>\n",
       "    <tr>\n",
       "      <th>998</th>\n",
       "      <td>57666 Victoria Way</td>\n",
       "      <td>4215</td>\n",
       "      <td>QLD</td>\n",
       "      <td>Australia</td>\n",
       "    </tr>\n",
       "    <tr>\n",
       "      <th>999</th>\n",
       "      <td>21875 Grover Drive</td>\n",
       "      <td>2010</td>\n",
       "      <td>NSW</td>\n",
       "      <td>Australia</td>\n",
       "    </tr>\n",
       "  </tbody>\n",
       "</table>\n",
       "<p>983 rows × 4 columns</p>\n",
       "</div>"
      ],
      "text/plain": [
       "                      address  postcode state    country\n",
       "0            45 Shopko Center      4500   QLD  Australia\n",
       "1           14 Mccormick Park      2113   NSW  Australia\n",
       "2         5 Colorado Crossing      3505   VIC  Australia\n",
       "3          207 Annamark Plaza      4814   QLD  Australia\n",
       "4           115 Montana Place      2093   NSW  Australia\n",
       "..                        ...       ...   ...        ...\n",
       "995               2 Sloan Way      2200   NSW  Australia\n",
       "996         04 Union Crossing      2196   NSW  Australia\n",
       "997  33475 Fair Oaks Junction      4702   QLD  Australia\n",
       "998        57666 Victoria Way      4215   QLD  Australia\n",
       "999        21875 Grover Drive      2010   NSW  Australia\n",
       "\n",
       "[983 rows x 4 columns]"
      ]
     },
     "execution_count": 44,
     "metadata": {},
     "output_type": "execute_result"
    }
   ],
   "source": [
    "new_cust[['address','postcode','state','country']].drop_duplicates()"
   ]
  },
  {
   "cell_type": "markdown",
   "id": "4ce9e77d-ea22-41cd-9c70-0e94c4069b06",
   "metadata": {},
   "source": [
    "# Tenure"
   ]
  },
  {
   "cell_type": "code",
   "execution_count": 45,
   "id": "d4561ba4-3602-48d9-afe8-2d78169d78b8",
   "metadata": {},
   "outputs": [
    {
     "data": {
      "text/plain": [
       "tenure\n",
       "9     79\n",
       "13    73\n",
       "11    66\n",
       "10    63\n",
       "12    60\n",
       "7     59\n",
       "17    59\n",
       "5     57\n",
       "15    57\n",
       "8     55\n",
       "14    52\n",
       "16    49\n",
       "6     45\n",
       "18    36\n",
       "4     35\n",
       "19    34\n",
       "3     25\n",
       "21    24\n",
       "20    22\n",
       "2     13\n",
       "22    12\n",
       "1      8\n",
       "Name: count, dtype: int64"
      ]
     },
     "execution_count": 45,
     "metadata": {},
     "output_type": "execute_result"
    }
   ],
   "source": [
    "new_cust['tenure'].value_counts()"
   ]
  },
  {
   "cell_type": "code",
   "execution_count": 46,
   "id": "6bfab135-6db6-4e37-8e5f-d54b69467a32",
   "metadata": {},
   "outputs": [
    {
     "data": {
      "text/plain": [
       "count    983.000000\n",
       "mean      11.459817\n",
       "std        5.006123\n",
       "min        1.000000\n",
       "25%        8.000000\n",
       "50%       11.000000\n",
       "75%       15.000000\n",
       "max       22.000000\n",
       "Name: tenure, dtype: float64"
      ]
     },
     "execution_count": 46,
     "metadata": {},
     "output_type": "execute_result"
    }
   ],
   "source": [
    "new_cust['tenure'].describe()"
   ]
  },
  {
   "cell_type": "code",
   "execution_count": 54,
   "id": "d5aa4747-9b30-4cd3-977a-d9bbabcac13a",
   "metadata": {},
   "outputs": [
    {
     "name": "stderr",
     "output_type": "stream",
     "text": [
      "C:\\Users\\srivastavash\\AppData\\Local\\Temp\\ipykernel_352\\1095511790.py:2: UserWarning: \n",
      "\n",
      "`distplot` is a deprecated function and will be removed in seaborn v0.14.0.\n",
      "\n",
      "Please adapt your code to use either `displot` (a figure-level function with\n",
      "similar flexibility) or `histplot` (an axes-level function for histograms).\n",
      "\n",
      "For a guide to updating your code to use the new functions, please see\n",
      "https://gist.github.com/mwaskom/de44147ed2974457ad6372750bbe5751\n",
      "\n",
      "  sns.distplot(new_cust['tenure'])\n"
     ]
    },
    {
     "data": {
      "image/png": "[encoded data removed]",
      "text/plain": [
       "<Figure size 1500x800 with 1 Axes>"
      ]
     },
     "metadata": {},
     "output_type": "display_data"
    }
   ],
   "source": [
    "fig=plt.figure(figsize=(15,8))\n",
    "sns.distplot(new_cust['tenure'])\n",
    "plt.show(fig)"
   ]
  },
  {
   "cell_type": "markdown",
   "id": "be45275d-b55b-4537-bcd1-6d156355def2",
   "metadata": {},
   "source": [
    "# Duplication check "
   ]
  },
  {
   "cell_type": "code",
   "execution_count": 60,
   "id": "5e54ac6a-d340-4709-bfa8-f18759bc1ff1",
   "metadata": {},
   "outputs": [
    {
     "name": "stdout",
     "output_type": "stream",
     "text": [
      "Number of records after removing customer_id (pk), duplicates : 983\n",
      "Number of records in original dataset : 983\n"
     ]
    }
   ],
   "source": [
    "new_cust_dedupped = new_cust.drop_duplicates()\n",
    "\n",
    "print('Number of records after removing customer_id (pk), duplicates : {}'.format(new_cust_dedupped.shape[0]))\n",
    "print('Number of records in original dataset : {}'.format(new_cust.shape[0]))"
   ]
  },
  {
   "cell_type": "markdown",
   "id": "8f1ff121-b98b-4cb6-b656-b2e873d23ac4",
   "metadata": {},
   "source": [
    "- Since both the numbers are same. There are no duplicate records in the dataset."
   ]
  },
  {
   "cell_type": "markdown",
   "id": "3c5216e6-3f2f-48bb-a339-6b0be58d48b8",
   "metadata": {},
   "source": [
    "# Exporting the Cleaned New Customers Data Set to csv"
   ]
  },
  {
   "cell_type": "code",
   "execution_count": 58,
   "id": "5cb2aaf9-a5ca-4227-8550-f68d76e3d249",
   "metadata": {},
   "outputs": [],
   "source": [
    "new_cust.to_csv('NewCustomerList_Cleaned.csv', index=False)"
   ]
  },
  {
   "cell_type": "code",
   "execution_count": 61,
   "id": "c25717de-3e34-4884-a234-7602ceebb40f",
   "metadata": {},
   "outputs": [
    {
     "data": {
      "text/html": [
       "<div>\n",
       "<style scoped>\n",
       "    .dataframe tbody tr th:only-of-type {\n",
       "        vertical-align: middle;\n",
       "    }\n",
       "\n",
       "    .dataframe tbody tr th {\n",
       "        vertical-align: top;\n",
       "    }\n",
       "\n",
       "    .dataframe thead th {\n",
       "        text-align: right;\n",
       "    }\n",
       "</style>\n",
       "<table border=\"1\" class=\"dataframe\">\n",
       "  <thead>\n",
       "    <tr style=\"text-align: right;\">\n",
       "      <th></th>\n",
       "      <th>first_name</th>\n",
       "      <th>last_name</th>\n",
       "      <th>gender</th>\n",
       "      <th>past_3_years_bike_related_purchases</th>\n",
       "      <th>DOB</th>\n",
       "      <th>job_title</th>\n",
       "      <th>job_industry_category</th>\n",
       "      <th>wealth_segment</th>\n",
       "      <th>deceased_indicator</th>\n",
       "      <th>owns_car</th>\n",
       "      <th>tenure</th>\n",
       "      <th>address</th>\n",
       "      <th>postcode</th>\n",
       "      <th>state</th>\n",
       "      <th>country</th>\n",
       "      <th>property_valuation</th>\n",
       "      <th>Rank</th>\n",
       "      <th>Value</th>\n",
       "      <th>Age</th>\n",
       "    </tr>\n",
       "  </thead>\n",
       "  <tbody>\n",
       "    <tr>\n",
       "      <th>0</th>\n",
       "      <td>Chickie</td>\n",
       "      <td>Brister</td>\n",
       "      <td>Male</td>\n",
       "      <td>86</td>\n",
       "      <td>1957-07-12</td>\n",
       "      <td>General Manager</td>\n",
       "      <td>Manufacturing</td>\n",
       "      <td>Mass Customer</td>\n",
       "      <td>N</td>\n",
       "      <td>Yes</td>\n",
       "      <td>14</td>\n",
       "      <td>45 Shopko Center</td>\n",
       "      <td>4500</td>\n",
       "      <td>QLD</td>\n",
       "      <td>Australia</td>\n",
       "      <td>6</td>\n",
       "      <td>1</td>\n",
       "      <td>1.718750</td>\n",
       "      <td>67</td>\n",
       "    </tr>\n",
       "    <tr>\n",
       "      <th>1</th>\n",
       "      <td>Morly</td>\n",
       "      <td>Genery</td>\n",
       "      <td>Male</td>\n",
       "      <td>69</td>\n",
       "      <td>1970-03-22</td>\n",
       "      <td>Structural Engineer</td>\n",
       "      <td>Property</td>\n",
       "      <td>Mass Customer</td>\n",
       "      <td>N</td>\n",
       "      <td>No</td>\n",
       "      <td>16</td>\n",
       "      <td>14 Mccormick Park</td>\n",
       "      <td>2113</td>\n",
       "      <td>NSW</td>\n",
       "      <td>Australia</td>\n",
       "      <td>11</td>\n",
       "      <td>1</td>\n",
       "      <td>1.718750</td>\n",
       "      <td>55</td>\n",
       "    </tr>\n",
       "    <tr>\n",
       "      <th>2</th>\n",
       "      <td>Ardelis</td>\n",
       "      <td>Forrester</td>\n",
       "      <td>Female</td>\n",
       "      <td>10</td>\n",
       "      <td>1974-08-28</td>\n",
       "      <td>Senior Cost Accountant</td>\n",
       "      <td>Financial Services</td>\n",
       "      <td>Affluent Customer</td>\n",
       "      <td>N</td>\n",
       "      <td>No</td>\n",
       "      <td>10</td>\n",
       "      <td>5 Colorado Crossing</td>\n",
       "      <td>3505</td>\n",
       "      <td>VIC</td>\n",
       "      <td>Australia</td>\n",
       "      <td>5</td>\n",
       "      <td>1</td>\n",
       "      <td>1.718750</td>\n",
       "      <td>50</td>\n",
       "    </tr>\n",
       "    <tr>\n",
       "      <th>3</th>\n",
       "      <td>Lucine</td>\n",
       "      <td>Stutt</td>\n",
       "      <td>Female</td>\n",
       "      <td>64</td>\n",
       "      <td>1979-01-28</td>\n",
       "      <td>Account Representative III</td>\n",
       "      <td>Manufacturing</td>\n",
       "      <td>Affluent Customer</td>\n",
       "      <td>N</td>\n",
       "      <td>Yes</td>\n",
       "      <td>5</td>\n",
       "      <td>207 Annamark Plaza</td>\n",
       "      <td>4814</td>\n",
       "      <td>QLD</td>\n",
       "      <td>Australia</td>\n",
       "      <td>1</td>\n",
       "      <td>4</td>\n",
       "      <td>1.703125</td>\n",
       "      <td>46</td>\n",
       "    </tr>\n",
       "    <tr>\n",
       "      <th>4</th>\n",
       "      <td>Melinda</td>\n",
       "      <td>Hadlee</td>\n",
       "      <td>Female</td>\n",
       "      <td>34</td>\n",
       "      <td>1965-09-21</td>\n",
       "      <td>Financial Analyst</td>\n",
       "      <td>Financial Services</td>\n",
       "      <td>Affluent Customer</td>\n",
       "      <td>N</td>\n",
       "      <td>No</td>\n",
       "      <td>19</td>\n",
       "      <td>115 Montana Place</td>\n",
       "      <td>2093</td>\n",
       "      <td>NSW</td>\n",
       "      <td>Australia</td>\n",
       "      <td>9</td>\n",
       "      <td>4</td>\n",
       "      <td>1.703125</td>\n",
       "      <td>59</td>\n",
       "    </tr>\n",
       "  </tbody>\n",
       "</table>\n",
       "</div>"
      ],
      "text/plain": [
       "  first_name  last_name  gender  past_3_years_bike_related_purchases  \\\n",
       "0    Chickie    Brister    Male                                   86   \n",
       "1      Morly     Genery    Male                                   69   \n",
       "2    Ardelis  Forrester  Female                                   10   \n",
       "3     Lucine      Stutt  Female                                   64   \n",
       "4    Melinda     Hadlee  Female                                   34   \n",
       "\n",
       "         DOB                   job_title job_industry_category  \\\n",
       "0 1957-07-12             General Manager         Manufacturing   \n",
       "1 1970-03-22         Structural Engineer              Property   \n",
       "2 1974-08-28      Senior Cost Accountant    Financial Services   \n",
       "3 1979-01-28  Account Representative III         Manufacturing   \n",
       "4 1965-09-21           Financial Analyst    Financial Services   \n",
       "\n",
       "      wealth_segment deceased_indicator owns_car  tenure              address  \\\n",
       "0      Mass Customer                  N      Yes      14     45 Shopko Center   \n",
       "1      Mass Customer                  N       No      16    14 Mccormick Park   \n",
       "2  Affluent Customer                  N       No      10  5 Colorado Crossing   \n",
       "3  Affluent Customer                  N      Yes       5   207 Annamark Plaza   \n",
       "4  Affluent Customer                  N       No      19    115 Montana Place   \n",
       "\n",
       "   postcode state    country  property_valuation  Rank     Value  Age  \n",
       "0      4500   QLD  Australia                   6     1  1.718750   67  \n",
       "1      2113   NSW  Australia                  11     1  1.718750   55  \n",
       "2      3505   VIC  Australia                   5     1  1.718750   50  \n",
       "3      4814   QLD  Australia                   1     4  1.703125   46  \n",
       "4      2093   NSW  Australia                   9     4  1.703125   59  "
      ]
     },
     "execution_count": 61,
     "metadata": {},
     "output_type": "execute_result"
    }
   ],
   "source": [
    "new_cust.head()"
   ]
  },
  {
   "cell_type": "code",
   "execution_count": null,
   "id": "fac57644-526d-4b86-bb46-55f9c2999baf",
   "metadata": {},
   "outputs": [],
   "source": []
  }
 ],
 "metadata": {
  "kernelspec": {
   "display_name": "Python 3 (ipykernel)",
   "language": "python",
   "name": "python3"
  },
  "language_info": {
   "codemirror_mode": {
    "name": "ipython",
    "version": 3
   },
   "file_extension": ".py",
   "mimetype": "text/x-python",
   "name": "python",
   "nbconvert_exporter": "python",
   "pygments_lexer": "ipython3",
   "version": "3.12.7"
  }
 },
 "nbformat": 4,
 "nbformat_minor": 5
}
